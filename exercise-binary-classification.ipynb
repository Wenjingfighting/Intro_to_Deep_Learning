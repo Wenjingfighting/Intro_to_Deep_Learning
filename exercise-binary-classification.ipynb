{
 "cells": [
  {
   "cell_type": "markdown",
   "id": "aabcc348",
   "metadata": {
    "papermill": {
     "duration": 0.004341,
     "end_time": "2022-09-13T04:38:39.001046",
     "exception": false,
     "start_time": "2022-09-13T04:38:38.996705",
     "status": "completed"
    },
    "tags": []
   },
   "source": [
    "**This notebook is an exercise in the [Intro to Deep Learning](https://www.kaggle.com/learn/intro-to-deep-learning) course.  You can reference the tutorial at [this link](https://www.kaggle.com/ryanholbrook/binary-classification).**\n",
    "\n",
    "---\n"
   ]
  },
  {
   "cell_type": "markdown",
   "id": "67913855",
   "metadata": {
    "papermill": {
     "duration": 0.003062,
     "end_time": "2022-09-13T04:38:39.007480",
     "exception": false,
     "start_time": "2022-09-13T04:38:39.004418",
     "status": "completed"
    },
    "tags": []
   },
   "source": [
    "# Introduction #\n",
    "\n",
    "In this exercise, you'll build a model to predict hotel cancellations with a binary classifier."
   ]
  },
  {
   "cell_type": "code",
   "execution_count": 1,
   "id": "eccc7de6",
   "metadata": {
    "execution": {
     "iopub.execute_input": "2022-09-13T04:38:39.017026Z",
     "iopub.status.busy": "2022-09-13T04:38:39.015533Z",
     "iopub.status.idle": "2022-09-13T04:38:39.047567Z",
     "shell.execute_reply": "2022-09-13T04:38:39.046579Z"
    },
    "lines_to_next_cell": 0,
    "papermill": {
     "duration": 0.039224,
     "end_time": "2022-09-13T04:38:39.049979",
     "exception": false,
     "start_time": "2022-09-13T04:38:39.010755",
     "status": "completed"
    },
    "tags": []
   },
   "outputs": [],
   "source": [
    "# Setup plotting\n",
    "import matplotlib.pyplot as plt\n",
    "plt.style.use('seaborn-whitegrid')\n",
    "# Set Matplotlib defaults\n",
    "plt.rc('figure', autolayout=True)\n",
    "plt.rc('axes', labelweight='bold', labelsize='large',\n",
    "       titleweight='bold', titlesize=18, titlepad=10)\n",
    "plt.rc('animation', html='html5')\n",
    "\n",
    "# Setup feedback system\n",
    "from learntools.core import binder\n",
    "binder.bind(globals())\n",
    "from learntools.deep_learning_intro.ex6 import *"
   ]
  },
  {
   "cell_type": "markdown",
   "id": "e3d5ae2d",
   "metadata": {
    "papermill": {
     "duration": 0.002967,
     "end_time": "2022-09-13T04:38:39.056107",
     "exception": false,
     "start_time": "2022-09-13T04:38:39.053140",
     "status": "completed"
    },
    "tags": []
   },
   "source": [
    "First, load the *Hotel Cancellations* dataset."
   ]
  },
  {
   "cell_type": "code",
   "execution_count": 2,
   "id": "7b781781",
   "metadata": {
    "execution": {
     "iopub.execute_input": "2022-09-13T04:38:39.064017Z",
     "iopub.status.busy": "2022-09-13T04:38:39.063224Z",
     "iopub.status.idle": "2022-09-13T04:38:41.463447Z",
     "shell.execute_reply": "2022-09-13T04:38:41.462455Z"
    },
    "lines_to_next_cell": 2,
    "papermill": {
     "duration": 2.40707,
     "end_time": "2022-09-13T04:38:41.466280",
     "exception": false,
     "start_time": "2022-09-13T04:38:39.059210",
     "status": "completed"
    },
    "tags": []
   },
   "outputs": [],
   "source": [
    "import pandas as pd\n",
    "\n",
    "from sklearn.model_selection import train_test_split\n",
    "from sklearn.preprocessing import StandardScaler, OneHotEncoder\n",
    "from sklearn.impute import SimpleImputer\n",
    "from sklearn.pipeline import make_pipeline\n",
    "from sklearn.compose import make_column_transformer\n",
    "\n",
    "hotel = pd.read_csv('../input/dl-course-data/hotel.csv')\n",
    "\n",
    "X = hotel.copy()\n",
    "y = X.pop('is_canceled')\n",
    "\n",
    "X['arrival_date_month'] = \\\n",
    "    X['arrival_date_month'].map(\n",
    "        {'January':1, 'February': 2, 'March':3,\n",
    "         'April':4, 'May':5, 'June':6, 'July':7,\n",
    "         'August':8, 'September':9, 'October':10,\n",
    "         'November':11, 'December':12}\n",
    "    )\n",
    "\n",
    "features_num = [\n",
    "    \"lead_time\", \"arrival_date_week_number\",\n",
    "    \"arrival_date_day_of_month\", \"stays_in_weekend_nights\",\n",
    "    \"stays_in_week_nights\", \"adults\", \"children\", \"babies\",\n",
    "    \"is_repeated_guest\", \"previous_cancellations\",\n",
    "    \"previous_bookings_not_canceled\", \"required_car_parking_spaces\",\n",
    "    \"total_of_special_requests\", \"adr\",\n",
    "]\n",
    "features_cat = [\n",
    "    \"hotel\", \"arrival_date_month\", \"meal\",\n",
    "    \"market_segment\", \"distribution_channel\",\n",
    "    \"reserved_room_type\", \"deposit_type\", \"customer_type\",\n",
    "]\n",
    "\n",
    "transformer_num = make_pipeline(\n",
    "    SimpleImputer(strategy=\"constant\"), # there are a few missing values\n",
    "    StandardScaler(),\n",
    ")\n",
    "transformer_cat = make_pipeline(\n",
    "    SimpleImputer(strategy=\"constant\", fill_value=\"NA\"),\n",
    "    OneHotEncoder(handle_unknown='ignore'),\n",
    ")\n",
    "\n",
    "preprocessor = make_column_transformer(\n",
    "    (transformer_num, features_num),\n",
    "    (transformer_cat, features_cat),\n",
    ")\n",
    "\n",
    "# stratify - make sure classes are evenlly represented across splits\n",
    "X_train, X_valid, y_train, y_valid = \\\n",
    "    train_test_split(X, y, stratify=y, train_size=0.75)\n",
    "\n",
    "X_train = preprocessor.fit_transform(X_train)\n",
    "X_valid = preprocessor.transform(X_valid)\n",
    "\n",
    "input_shape = [X_train.shape[1]]"
   ]
  },
  {
   "cell_type": "markdown",
   "id": "fe4e190a",
   "metadata": {
    "papermill": {
     "duration": 0.00314,
     "end_time": "2022-09-13T04:38:41.473430",
     "exception": false,
     "start_time": "2022-09-13T04:38:41.470290",
     "status": "completed"
    },
    "tags": []
   },
   "source": [
    "# 1) Define Model #\n",
    "\n",
    "The model we'll use this time will have both batch normalization and dropout layers. To ease reading we've broken the diagram into blocks, but you can define it layer by layer as usual.\n",
    "\n",
    "Define a model with an architecture given by this diagram:\n",
    "\n",
    "<figure style=\"padding: 1em;\">\n",
    "<img src=\"https://i.imgur.com/V04o59Z.png\" width=\"400\" alt=\"Diagram of network architecture: BatchNorm, Dense, BatchNorm, Dropout, Dense, BatchNorm, Dropout, Dense.\">\n",
    "<figcaption style=\"textalign: center; font-style: italic\"><center>Diagram of a binary classifier.</center></figcaption>\n",
    "</figure>\n"
   ]
  },
  {
   "cell_type": "code",
   "execution_count": 3,
   "id": "f7d98b79",
   "metadata": {
    "execution": {
     "iopub.execute_input": "2022-09-13T04:38:41.481022Z",
     "iopub.status.busy": "2022-09-13T04:38:41.480699Z",
     "iopub.status.idle": "2022-09-13T04:38:49.688729Z",
     "shell.execute_reply": "2022-09-13T04:38:49.687805Z"
    },
    "lines_to_next_cell": 2,
    "papermill": {
     "duration": 8.214221,
     "end_time": "2022-09-13T04:38:49.690782",
     "exception": false,
     "start_time": "2022-09-13T04:38:41.476561",
     "status": "completed"
    },
    "tags": []
   },
   "outputs": [
    {
     "name": "stderr",
     "output_type": "stream",
     "text": [
      "2022-09-13 04:38:46.792438: I tensorflow/stream_executor/cuda/cuda_gpu_executor.cc:937] successful NUMA node read from SysFS had negative value (-1), but there must be at least one NUMA node, so returning NUMA node zero\n",
      "2022-09-13 04:38:46.934270: I tensorflow/stream_executor/cuda/cuda_gpu_executor.cc:937] successful NUMA node read from SysFS had negative value (-1), but there must be at least one NUMA node, so returning NUMA node zero\n",
      "2022-09-13 04:38:46.935164: I tensorflow/stream_executor/cuda/cuda_gpu_executor.cc:937] successful NUMA node read from SysFS had negative value (-1), but there must be at least one NUMA node, so returning NUMA node zero\n",
      "2022-09-13 04:38:46.936853: I tensorflow/core/platform/cpu_feature_guard.cc:142] This TensorFlow binary is optimized with oneAPI Deep Neural Network Library (oneDNN) to use the following CPU instructions in performance-critical operations:  AVX2 AVX512F FMA\n",
      "To enable them in other operations, rebuild TensorFlow with the appropriate compiler flags.\n",
      "2022-09-13 04:38:46.940919: I tensorflow/stream_executor/cuda/cuda_gpu_executor.cc:937] successful NUMA node read from SysFS had negative value (-1), but there must be at least one NUMA node, so returning NUMA node zero\n",
      "2022-09-13 04:38:46.941726: I tensorflow/stream_executor/cuda/cuda_gpu_executor.cc:937] successful NUMA node read from SysFS had negative value (-1), but there must be at least one NUMA node, so returning NUMA node zero\n",
      "2022-09-13 04:38:46.942440: I tensorflow/stream_executor/cuda/cuda_gpu_executor.cc:937] successful NUMA node read from SysFS had negative value (-1), but there must be at least one NUMA node, so returning NUMA node zero\n",
      "2022-09-13 04:38:49.311043: I tensorflow/stream_executor/cuda/cuda_gpu_executor.cc:937] successful NUMA node read from SysFS had negative value (-1), but there must be at least one NUMA node, so returning NUMA node zero\n",
      "2022-09-13 04:38:49.311940: I tensorflow/stream_executor/cuda/cuda_gpu_executor.cc:937] successful NUMA node read from SysFS had negative value (-1), but there must be at least one NUMA node, so returning NUMA node zero\n",
      "2022-09-13 04:38:49.312617: I tensorflow/stream_executor/cuda/cuda_gpu_executor.cc:937] successful NUMA node read from SysFS had negative value (-1), but there must be at least one NUMA node, so returning NUMA node zero\n",
      "2022-09-13 04:38:49.313220: I tensorflow/core/common_runtime/gpu/gpu_device.cc:1510] Created device /job:localhost/replica:0/task:0/device:GPU:0 with 15401 MB memory:  -> device: 0, name: Tesla P100-PCIE-16GB, pci bus id: 0000:00:04.0, compute capability: 6.0\n"
     ]
    },
    {
     "data": {
      "application/javascript": [
       "parent.postMessage({\"jupyterEvent\": \"custom.exercise_interaction\", \"data\": {\"outcomeType\": 1, \"valueTowardsCompletion\": 0.3333333333333333, \"interactionType\": 1, \"questionType\": 2, \"questionId\": \"1_Q1\", \"learnToolsVersion\": \"0.3.4\", \"failureMessage\": \"\", \"exceptionClass\": \"\", \"trace\": \"\"}}, \"*\")"
      ],
      "text/plain": [
       "<IPython.core.display.Javascript object>"
      ]
     },
     "metadata": {},
     "output_type": "display_data"
    },
    {
     "data": {
      "text/markdown": [
       "<span style=\"color:#33cc33\">Correct</span>"
      ],
      "text/plain": [
       "Correct"
      ]
     },
     "metadata": {},
     "output_type": "display_data"
    }
   ],
   "source": [
    "from tensorflow import keras\n",
    "from tensorflow.keras import layers\n",
    "\n",
    "# YOUR CODE HERE: define the model given in the diagram\n",
    "model = keras.Sequential([\n",
    "    layers.BatchNormalization(),\n",
    "    layers.Dense(256, activation='relu', input_shape=[14]),\n",
    "    layers.BatchNormalization(),\n",
    "    layers.Dropout(rate=0.3),\n",
    "    layers.Dense(256, activation='relu'),\n",
    "    layers.BatchNormalization(),\n",
    "    layers.Dropout(rate=0.3),\n",
    "    layers.Dense(1, activation='sigmoid')\n",
    "])\n",
    "\n",
    "# Check your answer\n",
    "q_1.check()"
   ]
  },
  {
   "cell_type": "markdown",
   "id": "cf737963",
   "metadata": {
    "papermill": {
     "duration": 0.003564,
     "end_time": "2022-09-13T04:38:49.698262",
     "exception": false,
     "start_time": "2022-09-13T04:38:49.694698",
     "status": "completed"
    },
    "tags": []
   },
   "source": [
    "# 2) Add Optimizer, Loss, and Metric #\n",
    "\n",
    "Now compile the model with the Adam optimizer and binary versions of the cross-entropy loss and accuracy metric."
   ]
  },
  {
   "cell_type": "code",
   "execution_count": 4,
   "id": "4356496a",
   "metadata": {
    "execution": {
     "iopub.execute_input": "2022-09-13T04:38:49.707575Z",
     "iopub.status.busy": "2022-09-13T04:38:49.706269Z",
     "iopub.status.idle": "2022-09-13T04:38:49.727153Z",
     "shell.execute_reply": "2022-09-13T04:38:49.726074Z"
    },
    "lines_to_next_cell": 0,
    "papermill": {
     "duration": 0.027667,
     "end_time": "2022-09-13T04:38:49.729354",
     "exception": false,
     "start_time": "2022-09-13T04:38:49.701687",
     "status": "completed"
    },
    "tags": []
   },
   "outputs": [
    {
     "data": {
      "application/javascript": [
       "parent.postMessage({\"jupyterEvent\": \"custom.exercise_interaction\", \"data\": {\"outcomeType\": 1, \"valueTowardsCompletion\": 0.3333333333333333, \"interactionType\": 1, \"questionType\": 2, \"questionId\": \"2_Q2\", \"learnToolsVersion\": \"0.3.4\", \"failureMessage\": \"\", \"exceptionClass\": \"\", \"trace\": \"\"}}, \"*\")"
      ],
      "text/plain": [
       "<IPython.core.display.Javascript object>"
      ]
     },
     "metadata": {},
     "output_type": "display_data"
    },
    {
     "data": {
      "text/markdown": [
       "<span style=\"color:#33cc33\">Correct</span>"
      ],
      "text/plain": [
       "Correct"
      ]
     },
     "metadata": {},
     "output_type": "display_data"
    }
   ],
   "source": [
    "# YOUR CODE HERE\n",
    "model.compile(optimizer='adam', loss='binary_crossentropy', metrics=['binary_accuracy'])\n",
    "\n",
    "# Check your answer\n",
    "q_2.check()"
   ]
  },
  {
   "cell_type": "code",
   "execution_count": 5,
   "id": "449b0329",
   "metadata": {
    "execution": {
     "iopub.execute_input": "2022-09-13T04:38:49.738240Z",
     "iopub.status.busy": "2022-09-13T04:38:49.737771Z",
     "iopub.status.idle": "2022-09-13T04:38:49.741844Z",
     "shell.execute_reply": "2022-09-13T04:38:49.740807Z"
    },
    "lines_to_next_cell": 0,
    "papermill": {
     "duration": 0.011083,
     "end_time": "2022-09-13T04:38:49.744187",
     "exception": false,
     "start_time": "2022-09-13T04:38:49.733104",
     "status": "completed"
    },
    "tags": []
   },
   "outputs": [],
   "source": [
    "# Lines below will give you a hint or solution code\n",
    "#q_2.hint()\n",
    "#q_2.solution()"
   ]
  },
  {
   "cell_type": "markdown",
   "id": "8248f1ac",
   "metadata": {
    "papermill": {
     "duration": 0.003555,
     "end_time": "2022-09-13T04:38:49.751477",
     "exception": false,
     "start_time": "2022-09-13T04:38:49.747922",
     "status": "completed"
    },
    "tags": []
   },
   "source": [
    "Finally, run this cell to train the model and view the learning curves. It may run for around 60 to 70 epochs, which could take a minute or two."
   ]
  },
  {
   "cell_type": "code",
   "execution_count": 6,
   "id": "5f9ea4d3",
   "metadata": {
    "execution": {
     "iopub.execute_input": "2022-09-13T04:38:49.760105Z",
     "iopub.status.busy": "2022-09-13T04:38:49.759816Z",
     "iopub.status.idle": "2022-09-13T04:39:32.363912Z",
     "shell.execute_reply": "2022-09-13T04:39:32.362883Z"
    },
    "papermill": {
     "duration": 42.610814,
     "end_time": "2022-09-13T04:39:32.366058",
     "exception": false,
     "start_time": "2022-09-13T04:38:49.755244",
     "status": "completed"
    },
    "tags": []
   },
   "outputs": [
    {
     "name": "stderr",
     "output_type": "stream",
     "text": [
      "2022-09-13 04:38:49.885874: I tensorflow/compiler/mlir/mlir_graph_optimization_pass.cc:185] None of the MLIR Optimization Passes are enabled (registered 2)\n"
     ]
    },
    {
     "name": "stdout",
     "output_type": "stream",
     "text": [
      "Epoch 1/200\n",
      "175/175 [==============================] - 3s 6ms/step - loss: 0.4804 - binary_accuracy: 0.7708 - val_loss: 0.4346 - val_binary_accuracy: 0.8006\n",
      "Epoch 2/200\n",
      "175/175 [==============================] - 1s 5ms/step - loss: 0.4223 - binary_accuracy: 0.8004 - val_loss: 0.4060 - val_binary_accuracy: 0.8136\n",
      "Epoch 3/200\n",
      "175/175 [==============================] - 1s 4ms/step - loss: 0.4082 - binary_accuracy: 0.8074 - val_loss: 0.3987 - val_binary_accuracy: 0.8157\n",
      "Epoch 4/200\n",
      "175/175 [==============================] - 1s 4ms/step - loss: 0.4009 - binary_accuracy: 0.8125 - val_loss: 0.3947 - val_binary_accuracy: 0.8171\n",
      "Epoch 5/200\n",
      "175/175 [==============================] - 1s 4ms/step - loss: 0.3959 - binary_accuracy: 0.8152 - val_loss: 0.3909 - val_binary_accuracy: 0.8203\n",
      "Epoch 6/200\n",
      "175/175 [==============================] - 1s 5ms/step - loss: 0.3914 - binary_accuracy: 0.8165 - val_loss: 0.3884 - val_binary_accuracy: 0.8219\n",
      "Epoch 7/200\n",
      "175/175 [==============================] - 1s 4ms/step - loss: 0.3867 - binary_accuracy: 0.8192 - val_loss: 0.3841 - val_binary_accuracy: 0.8227\n",
      "Epoch 8/200\n",
      "175/175 [==============================] - 1s 5ms/step - loss: 0.3847 - binary_accuracy: 0.8213 - val_loss: 0.3836 - val_binary_accuracy: 0.8273\n",
      "Epoch 9/200\n",
      "175/175 [==============================] - 1s 5ms/step - loss: 0.3809 - binary_accuracy: 0.8230 - val_loss: 0.3793 - val_binary_accuracy: 0.8263\n",
      "Epoch 10/200\n",
      "175/175 [==============================] - 1s 4ms/step - loss: 0.3797 - binary_accuracy: 0.8227 - val_loss: 0.3756 - val_binary_accuracy: 0.8293\n",
      "Epoch 11/200\n",
      "175/175 [==============================] - 1s 4ms/step - loss: 0.3758 - binary_accuracy: 0.8262 - val_loss: 0.3771 - val_binary_accuracy: 0.8270\n",
      "Epoch 12/200\n",
      "175/175 [==============================] - 1s 5ms/step - loss: 0.3734 - binary_accuracy: 0.8268 - val_loss: 0.3714 - val_binary_accuracy: 0.8300\n",
      "Epoch 13/200\n",
      "175/175 [==============================] - 1s 4ms/step - loss: 0.3724 - binary_accuracy: 0.8273 - val_loss: 0.3707 - val_binary_accuracy: 0.8304\n",
      "Epoch 14/200\n",
      "175/175 [==============================] - 1s 5ms/step - loss: 0.3689 - binary_accuracy: 0.8292 - val_loss: 0.3699 - val_binary_accuracy: 0.8323\n",
      "Epoch 15/200\n",
      "175/175 [==============================] - 1s 4ms/step - loss: 0.3669 - binary_accuracy: 0.8310 - val_loss: 0.3682 - val_binary_accuracy: 0.8302\n",
      "Epoch 16/200\n",
      "175/175 [==============================] - 1s 4ms/step - loss: 0.3652 - binary_accuracy: 0.8307 - val_loss: 0.3665 - val_binary_accuracy: 0.8310\n",
      "Epoch 17/200\n",
      "175/175 [==============================] - 1s 4ms/step - loss: 0.3639 - binary_accuracy: 0.8309 - val_loss: 0.3653 - val_binary_accuracy: 0.8348\n",
      "Epoch 18/200\n",
      "175/175 [==============================] - 1s 4ms/step - loss: 0.3619 - binary_accuracy: 0.8324 - val_loss: 0.3646 - val_binary_accuracy: 0.8338\n",
      "Epoch 19/200\n",
      "175/175 [==============================] - 1s 4ms/step - loss: 0.3596 - binary_accuracy: 0.8336 - val_loss: 0.3635 - val_binary_accuracy: 0.8347\n",
      "Epoch 20/200\n",
      "175/175 [==============================] - 1s 4ms/step - loss: 0.3599 - binary_accuracy: 0.8338 - val_loss: 0.3631 - val_binary_accuracy: 0.8351\n",
      "Epoch 21/200\n",
      "175/175 [==============================] - 1s 4ms/step - loss: 0.3578 - binary_accuracy: 0.8350 - val_loss: 0.3620 - val_binary_accuracy: 0.8356\n",
      "Epoch 22/200\n",
      "175/175 [==============================] - 1s 5ms/step - loss: 0.3576 - binary_accuracy: 0.8339 - val_loss: 0.3629 - val_binary_accuracy: 0.8346\n",
      "Epoch 23/200\n",
      "175/175 [==============================] - 1s 5ms/step - loss: 0.3556 - binary_accuracy: 0.8348 - val_loss: 0.3592 - val_binary_accuracy: 0.8377\n",
      "Epoch 24/200\n",
      "175/175 [==============================] - 1s 4ms/step - loss: 0.3545 - binary_accuracy: 0.8359 - val_loss: 0.3590 - val_binary_accuracy: 0.8368\n",
      "Epoch 25/200\n",
      "175/175 [==============================] - 1s 4ms/step - loss: 0.3528 - binary_accuracy: 0.8369 - val_loss: 0.3572 - val_binary_accuracy: 0.8368\n",
      "Epoch 26/200\n",
      "175/175 [==============================] - 1s 5ms/step - loss: 0.3525 - binary_accuracy: 0.8361 - val_loss: 0.3587 - val_binary_accuracy: 0.8376\n",
      "Epoch 27/200\n",
      "175/175 [==============================] - 1s 5ms/step - loss: 0.3506 - binary_accuracy: 0.8384 - val_loss: 0.3585 - val_binary_accuracy: 0.8372\n",
      "Epoch 28/200\n",
      "175/175 [==============================] - 1s 6ms/step - loss: 0.3496 - binary_accuracy: 0.8389 - val_loss: 0.3579 - val_binary_accuracy: 0.8379\n",
      "Epoch 29/200\n",
      "175/175 [==============================] - 1s 5ms/step - loss: 0.3489 - binary_accuracy: 0.8378 - val_loss: 0.3568 - val_binary_accuracy: 0.8392\n",
      "Epoch 30/200\n",
      "175/175 [==============================] - 1s 5ms/step - loss: 0.3480 - binary_accuracy: 0.8388 - val_loss: 0.3554 - val_binary_accuracy: 0.8382\n",
      "Epoch 31/200\n",
      "175/175 [==============================] - 1s 4ms/step - loss: 0.3463 - binary_accuracy: 0.8408 - val_loss: 0.3580 - val_binary_accuracy: 0.8380\n",
      "Epoch 32/200\n",
      "175/175 [==============================] - 1s 4ms/step - loss: 0.3446 - binary_accuracy: 0.8412 - val_loss: 0.3548 - val_binary_accuracy: 0.8393\n",
      "Epoch 33/200\n",
      "175/175 [==============================] - 1s 5ms/step - loss: 0.3450 - binary_accuracy: 0.8403 - val_loss: 0.3560 - val_binary_accuracy: 0.8377\n",
      "Epoch 34/200\n",
      "175/175 [==============================] - 1s 5ms/step - loss: 0.3441 - binary_accuracy: 0.8406 - val_loss: 0.3603 - val_binary_accuracy: 0.8346\n",
      "Epoch 35/200\n",
      "175/175 [==============================] - 1s 8ms/step - loss: 0.3424 - binary_accuracy: 0.8413 - val_loss: 0.3583 - val_binary_accuracy: 0.8365\n"
     ]
    },
    {
     "data": {
      "text/plain": [
       "<AxesSubplot:title={'center':'Accuracy'}>"
      ]
     },
     "execution_count": 6,
     "metadata": {},
     "output_type": "execute_result"
    },
    {
     "data": {
      "image/png": "[encoded data removed]",
      "text/plain": [
       "<Figure size 432x288 with 1 Axes>"
      ]
     },
     "metadata": {},
     "output_type": "display_data"
    },
    {
     "data": {
      "image/png": "[encoded data removed]",
      "text/plain": [
       "<Figure size 432x288 with 1 Axes>"
      ]
     },
     "metadata": {},
     "output_type": "display_data"
    }
   ],
   "source": [
    "early_stopping = keras.callbacks.EarlyStopping(\n",
    "    patience=5,\n",
    "    min_delta=0.001,\n",
    "    restore_best_weights=True,\n",
    ")\n",
    "history = model.fit(\n",
    "    X_train, y_train,\n",
    "    validation_data=(X_valid, y_valid),\n",
    "    batch_size=512,\n",
    "    epochs=200,\n",
    "    callbacks=[early_stopping],\n",
    ")\n",
    "\n",
    "history_df = pd.DataFrame(history.history)\n",
    "history_df.loc[:, ['loss', 'val_loss']].plot(title=\"Cross-entropy\")\n",
    "history_df.loc[:, ['binary_accuracy', 'val_binary_accuracy']].plot(title=\"Accuracy\")"
   ]
  },
  {
   "cell_type": "markdown",
   "id": "48b2c88e",
   "metadata": {
    "papermill": {
     "duration": 0.029877,
     "end_time": "2022-09-13T04:39:32.425760",
     "exception": false,
     "start_time": "2022-09-13T04:39:32.395883",
     "status": "completed"
    },
    "tags": []
   },
   "source": [
    "# 3) Train and Evaluate #\n",
    "\n",
    "\n",
    "What do you think about the learning curves? Does it look like the model underfit or overfit? Was the cross-entropy loss a good stand-in for accuracy?"
   ]
  },
  {
   "cell_type": "code",
   "execution_count": 7,
   "id": "b5ab650d",
   "metadata": {
    "execution": {
     "iopub.execute_input": "2022-09-13T04:39:32.486192Z",
     "iopub.status.busy": "2022-09-13T04:39:32.485805Z",
     "iopub.status.idle": "2022-09-13T04:39:32.493947Z",
     "shell.execute_reply": "2022-09-13T04:39:32.493042Z"
    },
    "papermill": {
     "duration": 0.041,
     "end_time": "2022-09-13T04:39:32.496101",
     "exception": false,
     "start_time": "2022-09-13T04:39:32.455101",
     "status": "completed"
    },
    "tags": []
   },
   "outputs": [
    {
     "data": {
      "application/javascript": [
       "parent.postMessage({\"jupyterEvent\": \"custom.exercise_interaction\", \"data\": {\"outcomeType\": 1, \"valueTowardsCompletion\": 0.3333333333333333, \"interactionType\": 1, \"questionType\": 4, \"questionId\": \"3_Q3\", \"learnToolsVersion\": \"0.3.4\", \"failureMessage\": \"\", \"exceptionClass\": \"\", \"trace\": \"\"}}, \"*\")"
      ],
      "text/plain": [
       "<IPython.core.display.Javascript object>"
      ]
     },
     "metadata": {},
     "output_type": "display_data"
    },
    {
     "data": {
      "text/markdown": [
       "<span style=\"color:#33cc33\">Correct:</span> \n",
       "\n",
       "Though we can see the training loss continuing to fall, the early stopping callback prevented any overfitting. Moreover, the accuracy rose at the same rate as the cross-entropy fell, so it appears that minimizing cross-entropy was a good stand-in. All in all, it looks like this training was a success!"
      ],
      "text/plain": [
       "Correct: \n",
       "\n",
       "Though we can see the training loss continuing to fall, the early stopping callback prevented any overfitting. Moreover, the accuracy rose at the same rate as the cross-entropy fell, so it appears that minimizing cross-entropy was a good stand-in. All in all, it looks like this training was a success!"
      ]
     },
     "metadata": {},
     "output_type": "display_data"
    }
   ],
   "source": [
    "# View the solution (Run this cell to receive credit!)\n",
    "q_3.check()"
   ]
  },
  {
   "cell_type": "markdown",
   "id": "c5c88a27",
   "metadata": {
    "papermill": {
     "duration": 0.030491,
     "end_time": "2022-09-13T04:39:32.557362",
     "exception": false,
     "start_time": "2022-09-13T04:39:32.526871",
     "status": "completed"
    },
    "tags": []
   },
   "source": [
    "# Conclusion #\n",
    "\n",
    "Congratulations! You've completed Kaggle's *Introduction to Deep Learning* course!\n",
    "\n",
    "With your new skills you're ready to take on more advanced applications like computer vision and sentiment classification. What would you like to do next?\n",
    "\n",
    "Why not try one of our *Getting Started* competitions?\n",
    "\n",
    "- Classify images with TPUs in [**Petals to the Metal**](https://www.kaggle.com/c/tpu-getting-started)\n",
    "- Create art with GANs in [**I'm Something of a Painter Myself**](https://www.kaggle.com/c/gan-getting-started)\n",
    "- Classify Tweets in [**Real or Not? NLP with Disaster Tweets**](https://www.kaggle.com/c/nlp-getting-started)\n",
    "- Detect contradiction and entailment in [**Contradictory, My Dear Watson**](https://www.kaggle.com/c/contradictory-my-dear-watson)\n",
    "\n",
    "Until next time, Kagglers!"
   ]
  },
  {
   "cell_type": "markdown",
   "id": "adc5a2a6",
   "metadata": {
    "papermill": {
     "duration": 0.029593,
     "end_time": "2022-09-13T04:39:32.617319",
     "exception": false,
     "start_time": "2022-09-13T04:39:32.587726",
     "status": "completed"
    },
    "tags": []
   },
   "source": [
    "---\n",
    "\n",
    "\n",
    "\n",
    "\n",
    "*Have questions or comments? Visit the [course discussion forum](https://www.kaggle.com/learn/intro-to-deep-learning/discussion) to chat with other learners.*"
   ]
  }
 ],
 "metadata": {
  "kernelspec": {
   "display_name": "Python 3",
   "language": "python",
   "name": "python3"
  },
  "language_info": {
   "codemirror_mode": {
    "name": "ipython",
    "version": 3
   },
   "file_extension": ".py",
   "mimetype": "text/x-python",
   "name": "python",
   "nbconvert_exporter": "python",
   "pygments_lexer": "ipython3",
   "version": "3.7.12"
  },
  "papermill": {
   "default_parameters": {},
   "duration": 64.343313,
   "end_time": "2022-09-13T04:39:35.588747",
   "environment_variables": {},
   "exception": null,
   "input_path": "__notebook__.ipynb",
   "output_path": "__notebook__.ipynb",
   "parameters": {},
   "start_time": "2022-09-13T04:38:31.245434",
   "version": "2.3.4"
  }
 },
 "nbformat": 4,
 "nbformat_minor": 5
}
