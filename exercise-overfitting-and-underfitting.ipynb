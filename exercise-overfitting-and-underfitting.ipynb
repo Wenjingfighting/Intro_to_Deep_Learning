{
 "cells": [
  {
   "cell_type": "markdown",
   "id": "61f74577",
   "metadata": {
    "papermill": {
     "duration": 0.005665,
     "end_time": "2022-09-13T04:36:57.053364",
     "exception": false,
     "start_time": "2022-09-13T04:36:57.047699",
     "status": "completed"
    },
    "tags": []
   },
   "source": [
    "**This notebook is an exercise in the [Intro to Deep Learning](https://www.kaggle.com/learn/intro-to-deep-learning) course.  You can reference the tutorial at [this link](https://www.kaggle.com/ryanholbrook/overfitting-and-underfitting).**\n",
    "\n",
    "---\n"
   ]
  },
  {
   "cell_type": "markdown",
   "id": "881d7b41",
   "metadata": {
    "papermill": {
     "duration": 0.00404,
     "end_time": "2022-09-13T04:36:57.062090",
     "exception": false,
     "start_time": "2022-09-13T04:36:57.058050",
     "status": "completed"
    },
    "tags": []
   },
   "source": [
    "# Introduction #\n",
    "\n",
    "In this exercise, you’ll learn how to improve training outcomes by including an early stopping callback to prevent overfitting.\n",
    "\n",
    "When you're ready, run this next cell to set everything up!"
   ]
  },
  {
   "cell_type": "code",
   "execution_count": 1,
   "id": "1d4e2e34",
   "metadata": {
    "execution": {
     "iopub.execute_input": "2022-09-13T04:36:57.072773Z",
     "iopub.status.busy": "2022-09-13T04:36:57.072209Z",
     "iopub.status.idle": "2022-09-13T04:36:57.100328Z",
     "shell.execute_reply": "2022-09-13T04:36:57.099332Z"
    },
    "papermill": {
     "duration": 0.036185,
     "end_time": "2022-09-13T04:36:57.102564",
     "exception": false,
     "start_time": "2022-09-13T04:36:57.066379",
     "status": "completed"
    },
    "tags": []
   },
   "outputs": [],
   "source": [
    "# Setup plotting\n",
    "import matplotlib.pyplot as plt\n",
    "plt.style.use('seaborn-whitegrid')\n",
    "# Set Matplotlib defaults\n",
    "plt.rc('figure', autolayout=True)\n",
    "plt.rc('axes', labelweight='bold', labelsize='large',\n",
    "       titleweight='bold', titlesize=18, titlepad=10)\n",
    "plt.rc('animation', html='html5')\n",
    "\n",
    "# Setup feedback system\n",
    "from learntools.core import binder\n",
    "binder.bind(globals())\n",
    "from learntools.deep_learning_intro.ex4 import *"
   ]
  },
  {
   "cell_type": "markdown",
   "id": "05011804",
   "metadata": {
    "papermill": {
     "duration": 0.00406,
     "end_time": "2022-09-13T04:36:57.111013",
     "exception": false,
     "start_time": "2022-09-13T04:36:57.106953",
     "status": "completed"
    },
    "tags": []
   },
   "source": [
    "First load the *Spotify* dataset. Your task will be to predict the popularity of a song based on various audio features, like `'tempo'`, `'danceability'`, and `'mode'`."
   ]
  },
  {
   "cell_type": "code",
   "execution_count": 2,
   "id": "d9dd0382",
   "metadata": {
    "execution": {
     "iopub.execute_input": "2022-09-13T04:36:57.120997Z",
     "iopub.status.busy": "2022-09-13T04:36:57.120722Z",
     "iopub.status.idle": "2022-09-13T04:37:03.272164Z",
     "shell.execute_reply": "2022-09-13T04:37:03.271132Z"
    },
    "papermill": {
     "duration": 6.160029,
     "end_time": "2022-09-13T04:37:03.275228",
     "exception": false,
     "start_time": "2022-09-13T04:36:57.115199",
     "status": "completed"
    },
    "tags": []
   },
   "outputs": [
    {
     "name": "stdout",
     "output_type": "stream",
     "text": [
      "Input shape: [18]\n"
     ]
    }
   ],
   "source": [
    "import pandas as pd\n",
    "from sklearn.preprocessing import StandardScaler, OneHotEncoder\n",
    "from sklearn.compose import make_column_transformer\n",
    "from sklearn.model_selection import GroupShuffleSplit\n",
    "\n",
    "from tensorflow import keras\n",
    "from tensorflow.keras import layers\n",
    "from tensorflow.keras import callbacks\n",
    "\n",
    "spotify = pd.read_csv('../input/dl-course-data/spotify.csv')\n",
    "\n",
    "X = spotify.copy().dropna()\n",
    "y = X.pop('track_popularity')\n",
    "artists = X['track_artist']\n",
    "\n",
    "features_num = ['danceability', 'energy', 'key', 'loudness', 'mode',\n",
    "                'speechiness', 'acousticness', 'instrumentalness',\n",
    "                'liveness', 'valence', 'tempo', 'duration_ms']\n",
    "features_cat = ['playlist_genre']\n",
    "\n",
    "preprocessor = make_column_transformer(\n",
    "    (StandardScaler(), features_num),\n",
    "    (OneHotEncoder(), features_cat),\n",
    ")\n",
    "\n",
    "# We'll do a \"grouped\" split to keep all of an artist's songs in one\n",
    "# split or the other. This is to help prevent signal leakage.\n",
    "def group_split(X, y, group, train_size=0.75):\n",
    "    splitter = GroupShuffleSplit(train_size=train_size)\n",
    "    train, test = next(splitter.split(X, y, groups=group))\n",
    "    return (X.iloc[train], X.iloc[test], y.iloc[train], y.iloc[test])\n",
    "\n",
    "X_train, X_valid, y_train, y_valid = group_split(X, y, artists)\n",
    "\n",
    "X_train = preprocessor.fit_transform(X_train)\n",
    "X_valid = preprocessor.transform(X_valid)\n",
    "y_train = y_train / 100 # popularity is on a scale 0-100, so this rescales to 0-1.\n",
    "y_valid = y_valid / 100\n",
    "\n",
    "input_shape = [X_train.shape[1]]\n",
    "print(\"Input shape: {}\".format(input_shape))"
   ]
  },
  {
   "cell_type": "markdown",
   "id": "470005d8",
   "metadata": {
    "papermill": {
     "duration": 0.004249,
     "end_time": "2022-09-13T04:37:03.284394",
     "exception": false,
     "start_time": "2022-09-13T04:37:03.280145",
     "status": "completed"
    },
    "tags": []
   },
   "source": [
    "Let's start with the simplest network, a linear model. This model has low capacity.\n",
    "\n",
    "Run this next cell without any changes to train a linear model on the *Spotify* dataset."
   ]
  },
  {
   "cell_type": "code",
   "execution_count": 3,
   "id": "5434273e",
   "metadata": {
    "execution": {
     "iopub.execute_input": "2022-09-13T04:37:03.294354Z",
     "iopub.status.busy": "2022-09-13T04:37:03.294040Z",
     "iopub.status.idle": "2022-09-13T04:37:12.463640Z",
     "shell.execute_reply": "2022-09-13T04:37:12.462633Z"
    },
    "lines_to_next_cell": 0,
    "papermill": {
     "duration": 9.177103,
     "end_time": "2022-09-13T04:37:12.465869",
     "exception": false,
     "start_time": "2022-09-13T04:37:03.288766",
     "status": "completed"
    },
    "tags": []
   },
   "outputs": [
    {
     "name": "stderr",
     "output_type": "stream",
     "text": [
      "2022-09-13 04:37:03.382572: I tensorflow/stream_executor/cuda/cuda_gpu_executor.cc:937] successful NUMA node read from SysFS had negative value (-1), but there must be at least one NUMA node, so returning NUMA node zero\n",
      "2022-09-13 04:37:03.482212: I tensorflow/stream_executor/cuda/cuda_gpu_executor.cc:937] successful NUMA node read from SysFS had negative value (-1), but there must be at least one NUMA node, so returning NUMA node zero\n",
      "2022-09-13 04:37:03.483039: I tensorflow/stream_executor/cuda/cuda_gpu_executor.cc:937] successful NUMA node read from SysFS had negative value (-1), but there must be at least one NUMA node, so returning NUMA node zero\n",
      "2022-09-13 04:37:03.484771: I tensorflow/core/platform/cpu_feature_guard.cc:142] This TensorFlow binary is optimized with oneAPI Deep Neural Network Library (oneDNN) to use the following CPU instructions in performance-critical operations:  AVX2 AVX512F FMA\n",
      "To enable them in other operations, rebuild TensorFlow with the appropriate compiler flags.\n",
      "2022-09-13 04:37:03.485086: I tensorflow/stream_executor/cuda/cuda_gpu_executor.cc:937] successful NUMA node read from SysFS had negative value (-1), but there must be at least one NUMA node, so returning NUMA node zero\n",
      "2022-09-13 04:37:03.485879: I tensorflow/stream_executor/cuda/cuda_gpu_executor.cc:937] successful NUMA node read from SysFS had negative value (-1), but there must be at least one NUMA node, so returning NUMA node zero\n",
      "2022-09-13 04:37:03.486582: I tensorflow/stream_executor/cuda/cuda_gpu_executor.cc:937] successful NUMA node read from SysFS had negative value (-1), but there must be at least one NUMA node, so returning NUMA node zero\n",
      "2022-09-13 04:37:05.489078: I tensorflow/stream_executor/cuda/cuda_gpu_executor.cc:937] successful NUMA node read from SysFS had negative value (-1), but there must be at least one NUMA node, so returning NUMA node zero\n",
      "2022-09-13 04:37:05.489969: I tensorflow/stream_executor/cuda/cuda_gpu_executor.cc:937] successful NUMA node read from SysFS had negative value (-1), but there must be at least one NUMA node, so returning NUMA node zero\n",
      "2022-09-13 04:37:05.490680: I tensorflow/stream_executor/cuda/cuda_gpu_executor.cc:937] successful NUMA node read from SysFS had negative value (-1), but there must be at least one NUMA node, so returning NUMA node zero\n",
      "2022-09-13 04:37:05.491289: I tensorflow/core/common_runtime/gpu/gpu_device.cc:1510] Created device /job:localhost/replica:0/task:0/device:GPU:0 with 15401 MB memory:  -> device: 0, name: Tesla P100-PCIE-16GB, pci bus id: 0000:00:04.0, compute capability: 6.0\n",
      "2022-09-13 04:37:05.945672: I tensorflow/compiler/mlir/mlir_graph_optimization_pass.cc:185] None of the MLIR Optimization Passes are enabled (registered 2)\n"
     ]
    },
    {
     "name": "stdout",
     "output_type": "stream",
     "text": [
      "Minimum Validation Loss: 0.1934\n"
     ]
    },
    {
     "data": {
      "image/png": "[encoded data removed]",
      "text/plain": [
       "<Figure size 432x288 with 1 Axes>"
      ]
     },
     "metadata": {},
     "output_type": "display_data"
    }
   ],
   "source": [
    "model = keras.Sequential([\n",
    "    layers.Dense(1, input_shape=input_shape),\n",
    "])\n",
    "model.compile(\n",
    "    optimizer='adam',\n",
    "    loss='mae',\n",
    ")\n",
    "history = model.fit(\n",
    "    X_train, y_train,\n",
    "    validation_data=(X_valid, y_valid),\n",
    "    batch_size=512,\n",
    "    epochs=50,\n",
    "    verbose=0, # suppress output since we'll plot the curves\n",
    ")\n",
    "history_df = pd.DataFrame(history.history)\n",
    "history_df.loc[0:, ['loss', 'val_loss']].plot()\n",
    "print(\"Minimum Validation Loss: {:0.4f}\".format(history_df['val_loss'].min()));"
   ]
  },
  {
   "cell_type": "markdown",
   "id": "d855c4d7",
   "metadata": {
    "papermill": {
     "duration": 0.004887,
     "end_time": "2022-09-13T04:37:12.476025",
     "exception": false,
     "start_time": "2022-09-13T04:37:12.471138",
     "status": "completed"
    },
    "tags": []
   },
   "source": [
    "It's not uncommon for the curves to follow a \"hockey stick\" pattern like you see here. This makes the final part of training hard to see, so let's start at epoch 10 instead:"
   ]
  },
  {
   "cell_type": "code",
   "execution_count": 4,
   "id": "f513581a",
   "metadata": {
    "execution": {
     "iopub.execute_input": "2022-09-13T04:37:12.486950Z",
     "iopub.status.busy": "2022-09-13T04:37:12.486659Z",
     "iopub.status.idle": "2022-09-13T04:37:12.763355Z",
     "shell.execute_reply": "2022-09-13T04:37:12.762373Z"
    },
    "papermill": {
     "duration": 0.284413,
     "end_time": "2022-09-13T04:37:12.765309",
     "exception": false,
     "start_time": "2022-09-13T04:37:12.480896",
     "status": "completed"
    },
    "tags": []
   },
   "outputs": [
    {
     "name": "stdout",
     "output_type": "stream",
     "text": [
      "Minimum Validation Loss: 0.1934\n"
     ]
    },
    {
     "data": {
      "image/png": "[encoded data removed]",
      "text/plain": [
       "<Figure size 432x288 with 1 Axes>"
      ]
     },
     "metadata": {},
     "output_type": "display_data"
    }
   ],
   "source": [
    "# Start the plot at epoch 10\n",
    "history_df.loc[10:, ['loss', 'val_loss']].plot()\n",
    "print(\"Minimum Validation Loss: {:0.4f}\".format(history_df['val_loss'].min()));"
   ]
  },
  {
   "cell_type": "markdown",
   "id": "8e31e7e4",
   "metadata": {
    "papermill": {
     "duration": 0.005023,
     "end_time": "2022-09-13T04:37:12.775692",
     "exception": false,
     "start_time": "2022-09-13T04:37:12.770669",
     "status": "completed"
    },
    "tags": []
   },
   "source": [
    "# 1) Evaluate Baseline\n",
    "\n",
    "What do you think? Would you say this model is underfitting, overfitting, just right?"
   ]
  },
  {
   "cell_type": "code",
   "execution_count": 5,
   "id": "7797ffc5",
   "metadata": {
    "execution": {
     "iopub.execute_input": "2022-09-13T04:37:12.787159Z",
     "iopub.status.busy": "2022-09-13T04:37:12.786867Z",
     "iopub.status.idle": "2022-09-13T04:37:12.794813Z",
     "shell.execute_reply": "2022-09-13T04:37:12.793857Z"
    },
    "papermill": {
     "duration": 0.016071,
     "end_time": "2022-09-13T04:37:12.796861",
     "exception": false,
     "start_time": "2022-09-13T04:37:12.780790",
     "status": "completed"
    },
    "tags": []
   },
   "outputs": [
    {
     "data": {
      "application/javascript": [
       "parent.postMessage({\"jupyterEvent\": \"custom.exercise_interaction\", \"data\": {\"outcomeType\": 1, \"valueTowardsCompletion\": 0.25, \"interactionType\": 1, \"questionType\": 4, \"questionId\": \"1_Q1\", \"learnToolsVersion\": \"0.3.4\", \"failureMessage\": \"\", \"exceptionClass\": \"\", \"trace\": \"\"}}, \"*\")"
      ],
      "text/plain": [
       "<IPython.core.display.Javascript object>"
      ]
     },
     "metadata": {},
     "output_type": "display_data"
    },
    {
     "data": {
      "text/markdown": [
       "<span style=\"color:#33cc33\">Correct:</span> \n",
       "\n",
       "The gap between these curves is quite small and the validation loss never increases, so it's more likely that the network is underfitting than overfitting. It would be worth experimenting with more capacity to see if that's the case."
      ],
      "text/plain": [
       "Correct: \n",
       "\n",
       "The gap between these curves is quite small and the validation loss never increases, so it's more likely that the network is underfitting than overfitting. It would be worth experimenting with more capacity to see if that's the case."
      ]
     },
     "metadata": {},
     "output_type": "display_data"
    }
   ],
   "source": [
    "# View the solution (Run this cell to receive credit!)\n",
    "q_1.check()"
   ]
  },
  {
   "cell_type": "markdown",
   "id": "c6f7a127",
   "metadata": {
    "papermill": {
     "duration": 0.005262,
     "end_time": "2022-09-13T04:37:12.808474",
     "exception": false,
     "start_time": "2022-09-13T04:37:12.803212",
     "status": "completed"
    },
    "tags": []
   },
   "source": [
    "Now let's add some capacity to our network. We'll add three hidden layers with 128 units each. Run the next cell to train the network and see the learning curves."
   ]
  },
  {
   "cell_type": "code",
   "execution_count": 6,
   "id": "63efcf95",
   "metadata": {
    "execution": {
     "iopub.execute_input": "2022-09-13T04:37:12.820249Z",
     "iopub.status.busy": "2022-09-13T04:37:12.819988Z",
     "iopub.status.idle": "2022-09-13T04:37:23.776644Z",
     "shell.execute_reply": "2022-09-13T04:37:23.775575Z"
    },
    "papermill": {
     "duration": 10.965099,
     "end_time": "2022-09-13T04:37:23.778940",
     "exception": false,
     "start_time": "2022-09-13T04:37:12.813841",
     "status": "completed"
    },
    "tags": []
   },
   "outputs": [
    {
     "name": "stdout",
     "output_type": "stream",
     "text": [
      "Epoch 1/50\n",
      "49/49 [==============================] - 1s 6ms/step - loss: 0.2207 - val_loss: 0.2002\n",
      "Epoch 2/50\n",
      "49/49 [==============================] - 0s 3ms/step - loss: 0.1990 - val_loss: 0.1966\n",
      "Epoch 3/50\n",
      "49/49 [==============================] - 0s 3ms/step - loss: 0.1950 - val_loss: 0.1964\n",
      "Epoch 4/50\n",
      "49/49 [==============================] - 0s 3ms/step - loss: 0.1914 - val_loss: 0.1952\n",
      "Epoch 5/50\n",
      "49/49 [==============================] - 0s 3ms/step - loss: 0.1903 - val_loss: 0.1945\n",
      "Epoch 6/50\n",
      "49/49 [==============================] - 0s 2ms/step - loss: 0.1884 - val_loss: 0.1951\n",
      "Epoch 7/50\n",
      "49/49 [==============================] - 0s 3ms/step - loss: 0.1875 - val_loss: 0.1948\n",
      "Epoch 8/50\n",
      "49/49 [==============================] - 0s 3ms/step - loss: 0.1863 - val_loss: 0.1953\n",
      "Epoch 9/50\n",
      "49/49 [==============================] - 0s 3ms/step - loss: 0.1854 - val_loss: 0.1973\n",
      "Epoch 10/50\n",
      "49/49 [==============================] - 0s 3ms/step - loss: 0.1851 - val_loss: 0.1948\n",
      "Epoch 11/50\n",
      "49/49 [==============================] - 0s 2ms/step - loss: 0.1834 - val_loss: 0.1944\n",
      "Epoch 12/50\n",
      "49/49 [==============================] - 0s 3ms/step - loss: 0.1825 - val_loss: 0.1951\n",
      "Epoch 13/50\n",
      "49/49 [==============================] - 0s 3ms/step - loss: 0.1820 - val_loss: 0.1950\n",
      "Epoch 14/50\n",
      "49/49 [==============================] - 0s 3ms/step - loss: 0.1813 - val_loss: 0.1996\n",
      "Epoch 15/50\n",
      "49/49 [==============================] - 0s 2ms/step - loss: 0.1814 - val_loss: 0.1949\n",
      "Epoch 16/50\n",
      "49/49 [==============================] - 0s 3ms/step - loss: 0.1802 - val_loss: 0.1941\n",
      "Epoch 17/50\n",
      "49/49 [==============================] - 0s 2ms/step - loss: 0.1795 - val_loss: 0.1951\n",
      "Epoch 18/50\n",
      "49/49 [==============================] - 0s 4ms/step - loss: 0.1786 - val_loss: 0.1950\n",
      "Epoch 19/50\n",
      "49/49 [==============================] - 0s 5ms/step - loss: 0.1783 - val_loss: 0.1943\n",
      "Epoch 20/50\n",
      "49/49 [==============================] - 0s 4ms/step - loss: 0.1769 - val_loss: 0.1962\n",
      "Epoch 21/50\n",
      "49/49 [==============================] - 0s 4ms/step - loss: 0.1771 - val_loss: 0.1960\n",
      "Epoch 22/50\n",
      "49/49 [==============================] - 0s 4ms/step - loss: 0.1770 - val_loss: 0.1961\n",
      "Epoch 23/50\n",
      "49/49 [==============================] - 0s 4ms/step - loss: 0.1758 - val_loss: 0.1953\n",
      "Epoch 24/50\n",
      "49/49 [==============================] - 0s 3ms/step - loss: 0.1756 - val_loss: 0.1968\n",
      "Epoch 25/50\n",
      "49/49 [==============================] - 0s 3ms/step - loss: 0.1750 - val_loss: 0.1955\n",
      "Epoch 26/50\n",
      "49/49 [==============================] - 0s 2ms/step - loss: 0.1746 - val_loss: 0.1968\n",
      "Epoch 27/50\n",
      "49/49 [==============================] - 0s 3ms/step - loss: 0.1740 - val_loss: 0.1973\n",
      "Epoch 28/50\n",
      "49/49 [==============================] - 0s 3ms/step - loss: 0.1737 - val_loss: 0.1968\n",
      "Epoch 29/50\n",
      "49/49 [==============================] - 0s 3ms/step - loss: 0.1736 - val_loss: 0.1975\n",
      "Epoch 30/50\n",
      "49/49 [==============================] - 0s 2ms/step - loss: 0.1735 - val_loss: 0.1983\n",
      "Epoch 31/50\n",
      "49/49 [==============================] - 0s 2ms/step - loss: 0.1723 - val_loss: 0.1977\n",
      "Epoch 32/50\n",
      "49/49 [==============================] - 0s 3ms/step - loss: 0.1719 - val_loss: 0.1977\n",
      "Epoch 33/50\n",
      "49/49 [==============================] - 0s 3ms/step - loss: 0.1717 - val_loss: 0.1973\n",
      "Epoch 34/50\n",
      "49/49 [==============================] - 0s 3ms/step - loss: 0.1713 - val_loss: 0.1971\n",
      "Epoch 35/50\n",
      "49/49 [==============================] - 0s 3ms/step - loss: 0.1706 - val_loss: 0.1974\n",
      "Epoch 36/50\n",
      "49/49 [==============================] - 0s 2ms/step - loss: 0.1701 - val_loss: 0.1990\n",
      "Epoch 37/50\n",
      "49/49 [==============================] - 0s 3ms/step - loss: 0.1697 - val_loss: 0.1983\n",
      "Epoch 38/50\n",
      "49/49 [==============================] - 0s 2ms/step - loss: 0.1690 - val_loss: 0.1986\n",
      "Epoch 39/50\n",
      "49/49 [==============================] - 0s 3ms/step - loss: 0.1686 - val_loss: 0.1993\n",
      "Epoch 40/50\n",
      "49/49 [==============================] - 0s 2ms/step - loss: 0.1685 - val_loss: 0.2001\n",
      "Epoch 41/50\n",
      "49/49 [==============================] - 0s 3ms/step - loss: 0.1684 - val_loss: 0.1984\n",
      "Epoch 42/50\n",
      "49/49 [==============================] - 0s 3ms/step - loss: 0.1670 - val_loss: 0.1992\n",
      "Epoch 43/50\n",
      "49/49 [==============================] - 0s 3ms/step - loss: 0.1674 - val_loss: 0.2003\n",
      "Epoch 44/50\n",
      "49/49 [==============================] - 0s 3ms/step - loss: 0.1673 - val_loss: 0.2009\n",
      "Epoch 45/50\n",
      "49/49 [==============================] - 0s 3ms/step - loss: 0.1670 - val_loss: 0.2006\n",
      "Epoch 46/50\n",
      "49/49 [==============================] - 0s 3ms/step - loss: 0.1660 - val_loss: 0.2016\n",
      "Epoch 47/50\n",
      "49/49 [==============================] - 0s 2ms/step - loss: 0.1659 - val_loss: 0.1998\n",
      "Epoch 48/50\n",
      "49/49 [==============================] - 0s 3ms/step - loss: 0.1660 - val_loss: 0.2005\n",
      "Epoch 49/50\n",
      "49/49 [==============================] - 0s 3ms/step - loss: 0.1653 - val_loss: 0.2002\n",
      "Epoch 50/50\n",
      "49/49 [==============================] - 0s 3ms/step - loss: 0.1651 - val_loss: 0.2007\n",
      "Minimum Validation Loss: 0.1941\n"
     ]
    },
    {
     "data": {
      "image/png": "[encoded data removed]",
      "text/plain": [
       "<Figure size 432x288 with 1 Axes>"
      ]
     },
     "metadata": {},
     "output_type": "display_data"
    }
   ],
   "source": [
    "model = keras.Sequential([\n",
    "    layers.Dense(128, activation='relu', input_shape=input_shape),\n",
    "    layers.Dense(64, activation='relu'),\n",
    "    layers.Dense(1)\n",
    "])\n",
    "model.compile(\n",
    "    optimizer='adam',\n",
    "    loss='mae',\n",
    ")\n",
    "history = model.fit(\n",
    "    X_train, y_train,\n",
    "    validation_data=(X_valid, y_valid),\n",
    "    batch_size=512,\n",
    "    epochs=50,\n",
    ")\n",
    "history_df = pd.DataFrame(history.history)\n",
    "history_df.loc[:, ['loss', 'val_loss']].plot()\n",
    "print(\"Minimum Validation Loss: {:0.4f}\".format(history_df['val_loss'].min()));"
   ]
  },
  {
   "cell_type": "markdown",
   "id": "2bf173f2",
   "metadata": {
    "papermill": {
     "duration": 0.014137,
     "end_time": "2022-09-13T04:37:23.808334",
     "exception": false,
     "start_time": "2022-09-13T04:37:23.794197",
     "status": "completed"
    },
    "tags": []
   },
   "source": [
    "# 2) Add Capacity\n",
    "\n",
    "What is your evaluation of these curves? Underfitting, overfitting, just right?"
   ]
  },
  {
   "cell_type": "code",
   "execution_count": 7,
   "id": "a8318065",
   "metadata": {
    "execution": {
     "iopub.execute_input": "2022-09-13T04:37:23.838385Z",
     "iopub.status.busy": "2022-09-13T04:37:23.837830Z",
     "iopub.status.idle": "2022-09-13T04:37:23.846168Z",
     "shell.execute_reply": "2022-09-13T04:37:23.845253Z"
    },
    "papermill": {
     "duration": 0.025819,
     "end_time": "2022-09-13T04:37:23.848434",
     "exception": false,
     "start_time": "2022-09-13T04:37:23.822615",
     "status": "completed"
    },
    "tags": []
   },
   "outputs": [
    {
     "data": {
      "application/javascript": [
       "parent.postMessage({\"jupyterEvent\": \"custom.exercise_interaction\", \"data\": {\"outcomeType\": 1, \"valueTowardsCompletion\": 0.25, \"interactionType\": 1, \"questionType\": 4, \"questionId\": \"2_Q2\", \"learnToolsVersion\": \"0.3.4\", \"failureMessage\": \"\", \"exceptionClass\": \"\", \"trace\": \"\"}}, \"*\")"
      ],
      "text/plain": [
       "<IPython.core.display.Javascript object>"
      ]
     },
     "metadata": {},
     "output_type": "display_data"
    },
    {
     "data": {
      "text/markdown": [
       "<span style=\"color:#33cc33\">Correct:</span> \n",
       "\n",
       "Now the validation loss begins to rise very early, while the training loss continues to decrease. This indicates that the network has begun to overfit. At this point, we would need to try something to prevent it, either by reducing the number of units or through a method like early stopping. (We'll see another in the next lesson!)"
      ],
      "text/plain": [
       "Correct: \n",
       "\n",
       "Now the validation loss begins to rise very early, while the training loss continues to decrease. This indicates that the network has begun to overfit. At this point, we would need to try something to prevent it, either by reducing the number of units or through a method like early stopping. (We'll see another in the next lesson!)"
      ]
     },
     "metadata": {},
     "output_type": "display_data"
    }
   ],
   "source": [
    "# View the solution (Run this cell to receive credit!)\n",
    "q_2.check()"
   ]
  },
  {
   "cell_type": "markdown",
   "id": "d2f3fe0a",
   "metadata": {
    "papermill": {
     "duration": 0.014356,
     "end_time": "2022-09-13T04:37:23.877134",
     "exception": false,
     "start_time": "2022-09-13T04:37:23.862778",
     "status": "completed"
    },
    "tags": []
   },
   "source": [
    "# 3) Define Early Stopping Callback\n",
    "\n",
    "Now define an early stopping callback that waits 5 epochs (`patience'`) for a change in validation loss of at least `0.001` (`min_delta`) and keeps the weights with the best loss (`restore_best_weights`)."
   ]
  },
  {
   "cell_type": "code",
   "execution_count": 8,
   "id": "f391c0e5",
   "metadata": {
    "execution": {
     "iopub.execute_input": "2022-09-13T04:37:23.908924Z",
     "iopub.status.busy": "2022-09-13T04:37:23.907300Z",
     "iopub.status.idle": "2022-09-13T04:37:23.918319Z",
     "shell.execute_reply": "2022-09-13T04:37:23.917479Z"
    },
    "lines_to_next_cell": 0,
    "papermill": {
     "duration": 0.028476,
     "end_time": "2022-09-13T04:37:23.920405",
     "exception": false,
     "start_time": "2022-09-13T04:37:23.891929",
     "status": "completed"
    },
    "tags": []
   },
   "outputs": [
    {
     "data": {
      "application/javascript": [
       "parent.postMessage({\"jupyterEvent\": \"custom.exercise_interaction\", \"data\": {\"outcomeType\": 1, \"valueTowardsCompletion\": 0.25, \"interactionType\": 1, \"questionType\": 2, \"questionId\": \"3_Q3\", \"learnToolsVersion\": \"0.3.4\", \"failureMessage\": \"\", \"exceptionClass\": \"\", \"trace\": \"\"}}, \"*\")"
      ],
      "text/plain": [
       "<IPython.core.display.Javascript object>"
      ]
     },
     "metadata": {},
     "output_type": "display_data"
    },
    {
     "data": {
      "text/markdown": [
       "<span style=\"color:#33cc33\">Correct</span>"
      ],
      "text/plain": [
       "Correct"
      ]
     },
     "metadata": {},
     "output_type": "display_data"
    }
   ],
   "source": [
    "from tensorflow.keras import callbacks\n",
    "\n",
    "# YOUR CODE HERE: define an early stopping callback\n",
    "early_stopping = callbacks.EarlyStopping(min_delta=0.001, patience=5, restore_best_weights=True)\n",
    "\n",
    "# Check your answer\n",
    "q_3.check()"
   ]
  },
  {
   "cell_type": "code",
   "execution_count": 9,
   "id": "62a7bfa1",
   "metadata": {
    "execution": {
     "iopub.execute_input": "2022-09-13T04:37:23.951276Z",
     "iopub.status.busy": "2022-09-13T04:37:23.950607Z",
     "iopub.status.idle": "2022-09-13T04:37:23.955505Z",
     "shell.execute_reply": "2022-09-13T04:37:23.954614Z"
    },
    "papermill": {
     "duration": 0.022344,
     "end_time": "2022-09-13T04:37:23.957501",
     "exception": false,
     "start_time": "2022-09-13T04:37:23.935157",
     "status": "completed"
    },
    "tags": []
   },
   "outputs": [],
   "source": [
    "# Lines below will give you a hint or solution code\n",
    "#q_3.hint()\n",
    "#q_3.solution()"
   ]
  },
  {
   "cell_type": "markdown",
   "id": "09e65f06",
   "metadata": {
    "papermill": {
     "duration": 0.025323,
     "end_time": "2022-09-13T04:37:24.007131",
     "exception": false,
     "start_time": "2022-09-13T04:37:23.981808",
     "status": "completed"
    },
    "tags": []
   },
   "source": [
    "Now run this cell to train the model and get the learning curves. Notice the `callbacks` argument in `model.fit`."
   ]
  },
  {
   "cell_type": "code",
   "execution_count": 10,
   "id": "b6af6fe8",
   "metadata": {
    "execution": {
     "iopub.execute_input": "2022-09-13T04:37:24.076100Z",
     "iopub.status.busy": "2022-09-13T04:37:24.075649Z",
     "iopub.status.idle": "2022-09-13T04:37:27.211508Z",
     "shell.execute_reply": "2022-09-13T04:37:27.210423Z"
    },
    "papermill": {
     "duration": 3.170648,
     "end_time": "2022-09-13T04:37:27.213727",
     "exception": false,
     "start_time": "2022-09-13T04:37:24.043079",
     "status": "completed"
    },
    "tags": []
   },
   "outputs": [
    {
     "name": "stdout",
     "output_type": "stream",
     "text": [
      "Epoch 1/50\n",
      "49/49 [==============================] - 1s 4ms/step - loss: 0.2270 - val_loss: 0.2026\n",
      "Epoch 2/50\n",
      "49/49 [==============================] - 0s 3ms/step - loss: 0.2005 - val_loss: 0.1990\n",
      "Epoch 3/50\n",
      "49/49 [==============================] - 0s 2ms/step - loss: 0.1955 - val_loss: 0.1971\n",
      "Epoch 4/50\n",
      "49/49 [==============================] - 0s 2ms/step - loss: 0.1929 - val_loss: 0.1981\n",
      "Epoch 5/50\n",
      "49/49 [==============================] - 0s 2ms/step - loss: 0.1909 - val_loss: 0.1960\n",
      "Epoch 6/50\n",
      "49/49 [==============================] - 0s 3ms/step - loss: 0.1896 - val_loss: 0.1952\n",
      "Epoch 7/50\n",
      "49/49 [==============================] - 0s 3ms/step - loss: 0.1876 - val_loss: 0.1955\n",
      "Epoch 8/50\n",
      "49/49 [==============================] - 0s 2ms/step - loss: 0.1868 - val_loss: 0.1945\n",
      "Epoch 9/50\n",
      "49/49 [==============================] - 0s 2ms/step - loss: 0.1855 - val_loss: 0.1943\n",
      "Epoch 10/50\n",
      "49/49 [==============================] - 0s 3ms/step - loss: 0.1847 - val_loss: 0.1949\n",
      "Epoch 11/50\n",
      "49/49 [==============================] - 0s 3ms/step - loss: 0.1843 - val_loss: 0.1947\n",
      "Epoch 12/50\n",
      "49/49 [==============================] - 0s 3ms/step - loss: 0.1837 - val_loss: 0.1953\n",
      "Epoch 13/50\n",
      "49/49 [==============================] - 0s 3ms/step - loss: 0.1824 - val_loss: 0.1934\n",
      "Epoch 14/50\n",
      "49/49 [==============================] - 0s 3ms/step - loss: 0.1808 - val_loss: 0.1944\n",
      "Epoch 15/50\n",
      "49/49 [==============================] - 0s 2ms/step - loss: 0.1804 - val_loss: 0.1945\n",
      "Epoch 16/50\n",
      "49/49 [==============================] - 0s 3ms/step - loss: 0.1798 - val_loss: 0.1944\n",
      "Epoch 17/50\n",
      "49/49 [==============================] - 0s 3ms/step - loss: 0.1795 - val_loss: 0.1950\n",
      "Epoch 18/50\n",
      "49/49 [==============================] - 0s 3ms/step - loss: 0.1783 - val_loss: 0.1955\n",
      "Minimum Validation Loss: 0.1934\n"
     ]
    },
    {
     "data": {
      "image/png": "[encoded data removed]",
      "text/plain": [
       "<Figure size 432x288 with 1 Axes>"
      ]
     },
     "metadata": {},
     "output_type": "display_data"
    }
   ],
   "source": [
    "model = keras.Sequential([\n",
    "    layers.Dense(128, activation='relu', input_shape=input_shape),\n",
    "    layers.Dense(64, activation='relu'),    \n",
    "    layers.Dense(1)\n",
    "])\n",
    "model.compile(\n",
    "    optimizer='adam',\n",
    "    loss='mae',\n",
    ")\n",
    "history = model.fit(\n",
    "    X_train, y_train,\n",
    "    validation_data=(X_valid, y_valid),\n",
    "    batch_size=512,\n",
    "    epochs=50,\n",
    "    callbacks=[early_stopping]\n",
    ")\n",
    "history_df = pd.DataFrame(history.history)\n",
    "history_df.loc[:, ['loss', 'val_loss']].plot()\n",
    "print(\"Minimum Validation Loss: {:0.4f}\".format(history_df['val_loss'].min()));"
   ]
  },
  {
   "cell_type": "markdown",
   "id": "29be102b",
   "metadata": {
    "papermill": {
     "duration": 0.017937,
     "end_time": "2022-09-13T04:37:27.250096",
     "exception": false,
     "start_time": "2022-09-13T04:37:27.232159",
     "status": "completed"
    },
    "tags": []
   },
   "source": [
    "# 4) Train and Interpret\n",
    "\n",
    "Was this an improvement compared to training without early stopping?"
   ]
  },
  {
   "cell_type": "code",
   "execution_count": 11,
   "id": "c23616a1",
   "metadata": {
    "execution": {
     "iopub.execute_input": "2022-09-13T04:37:27.287213Z",
     "iopub.status.busy": "2022-09-13T04:37:27.286853Z",
     "iopub.status.idle": "2022-09-13T04:37:27.295087Z",
     "shell.execute_reply": "2022-09-13T04:37:27.294121Z"
    },
    "papermill": {
     "duration": 0.029058,
     "end_time": "2022-09-13T04:37:27.297072",
     "exception": false,
     "start_time": "2022-09-13T04:37:27.268014",
     "status": "completed"
    },
    "tags": []
   },
   "outputs": [
    {
     "data": {
      "application/javascript": [
       "parent.postMessage({\"jupyterEvent\": \"custom.exercise_interaction\", \"data\": {\"outcomeType\": 1, \"valueTowardsCompletion\": 0.25, \"interactionType\": 1, \"questionType\": 4, \"questionId\": \"4_Q4\", \"learnToolsVersion\": \"0.3.4\", \"failureMessage\": \"\", \"exceptionClass\": \"\", \"trace\": \"\"}}, \"*\")"
      ],
      "text/plain": [
       "<IPython.core.display.Javascript object>"
      ]
     },
     "metadata": {},
     "output_type": "display_data"
    },
    {
     "data": {
      "text/markdown": [
       "<span style=\"color:#33cc33\">Correct:</span> \n",
       "\n",
       "The early stopping callback did stop the training once the network began overfitting. Moreover, by including `restore_best_weights` we still get to keep the model where validation loss was lowest."
      ],
      "text/plain": [
       "Correct: \n",
       "\n",
       "The early stopping callback did stop the training once the network began overfitting. Moreover, by including `restore_best_weights` we still get to keep the model where validation loss was lowest."
      ]
     },
     "metadata": {},
     "output_type": "display_data"
    }
   ],
   "source": [
    "# View the solution (Run this cell to receive credit!)\n",
    "q_4.check()"
   ]
  },
  {
   "cell_type": "markdown",
   "id": "d3002954",
   "metadata": {
    "papermill": {
     "duration": 0.01831,
     "end_time": "2022-09-13T04:37:27.333751",
     "exception": false,
     "start_time": "2022-09-13T04:37:27.315441",
     "status": "completed"
    },
    "tags": []
   },
   "source": [
    "If you like, try experimenting with `patience` and `min_delta` to see what difference it might make.\n",
    "\n",
    "# Keep Going #\n",
    "\n",
    "Move on to [**learn about a couple of special layers**](https://www.kaggle.com/ryanholbrook/dropout-and-batch-normalization): batch normalization and dropout."
   ]
  },
  {
   "cell_type": "markdown",
   "id": "0ab54a2d",
   "metadata": {
    "papermill": {
     "duration": 0.018054,
     "end_time": "2022-09-13T04:37:27.370049",
     "exception": false,
     "start_time": "2022-09-13T04:37:27.351995",
     "status": "completed"
    },
    "tags": []
   },
   "source": [
    "---\n",
    "\n",
    "\n",
    "\n",
    "\n",
    "*Have questions or comments? Visit the [course discussion forum](https://www.kaggle.com/learn/intro-to-deep-learning/discussion) to chat with other learners.*"
   ]
  }
 ],
 "metadata": {
  "kernelspec": {
   "display_name": "Python 3",
   "language": "python",
   "name": "python3"
  },
  "language_info": {
   "codemirror_mode": {
    "name": "ipython",
    "version": 3
   },
   "file_extension": ".py",
   "mimetype": "text/x-python",
   "name": "python",
   "nbconvert_exporter": "python",
   "pygments_lexer": "ipython3",
   "version": "3.7.12"
  },
  "papermill": {
   "default_parameters": {},
   "duration": 41.213756,
   "end_time": "2022-09-13T04:37:30.740695",
   "environment_variables": {},
   "exception": null,
   "input_path": "__notebook__.ipynb",
   "output_path": "__notebook__.ipynb",
   "parameters": {},
   "start_time": "2022-09-13T04:36:49.526939",
   "version": "2.3.4"
  }
 },
 "nbformat": 4,
 "nbformat_minor": 5
}
