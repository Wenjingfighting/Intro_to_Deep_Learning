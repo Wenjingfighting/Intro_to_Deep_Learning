{
 "cells": [
  {
   "cell_type": "markdown",
   "id": "5b8f019d",
   "metadata": {
    "papermill": {
     "duration": 0.007347,
     "end_time": "2022-09-13T04:38:10.891101",
     "exception": false,
     "start_time": "2022-09-13T04:38:10.883754",
     "status": "completed"
    },
    "tags": []
   },
   "source": [
    "**This notebook is an exercise in the [Intro to Deep Learning](https://www.kaggle.com/learn/intro-to-deep-learning) course.  You can reference the tutorial at [this link](https://www.kaggle.com/ryanholbrook/dropout-and-batch-normalization).**\n",
    "\n",
    "---\n"
   ]
  },
  {
   "cell_type": "markdown",
   "id": "c79f3f52",
   "metadata": {
    "papermill": {
     "duration": 0.005185,
     "end_time": "2022-09-13T04:38:10.901831",
     "exception": false,
     "start_time": "2022-09-13T04:38:10.896646",
     "status": "completed"
    },
    "tags": []
   },
   "source": [
    "# Introduction #\n",
    "\n",
    "In this exercise, you'll add dropout to the *Spotify* model from Exercise 4 and see how batch normalization can let you successfully train models on difficult datasets.\n",
    "\n",
    "Run the next cell to get started!"
   ]
  },
  {
   "cell_type": "code",
   "execution_count": 1,
   "id": "dc989e03",
   "metadata": {
    "execution": {
     "iopub.execute_input": "2022-09-13T04:38:10.916462Z",
     "iopub.status.busy": "2022-09-13T04:38:10.915043Z",
     "iopub.status.idle": "2022-09-13T04:38:10.959418Z",
     "shell.execute_reply": "2022-09-13T04:38:10.957961Z"
    },
    "papermill": {
     "duration": 0.055595,
     "end_time": "2022-09-13T04:38:10.962891",
     "exception": false,
     "start_time": "2022-09-13T04:38:10.907296",
     "status": "completed"
    },
    "tags": []
   },
   "outputs": [],
   "source": [
    "# Setup plotting\n",
    "import matplotlib.pyplot as plt\n",
    "plt.style.use('seaborn-whitegrid')\n",
    "# Set Matplotlib defaults\n",
    "plt.rc('figure', autolayout=True)\n",
    "plt.rc('axes', labelweight='bold', labelsize='large',\n",
    "       titleweight='bold', titlesize=18, titlepad=10)\n",
    "plt.rc('animation', html='html5')\n",
    "\n",
    "# Setup feedback system\n",
    "from learntools.core import binder\n",
    "binder.bind(globals())\n",
    "from learntools.deep_learning_intro.ex5 import *"
   ]
  },
  {
   "cell_type": "markdown",
   "id": "10a5f247",
   "metadata": {
    "papermill": {
     "duration": 0.005343,
     "end_time": "2022-09-13T04:38:10.973971",
     "exception": false,
     "start_time": "2022-09-13T04:38:10.968628",
     "status": "completed"
    },
    "tags": []
   },
   "source": [
    "First load the *Spotify* dataset."
   ]
  },
  {
   "cell_type": "code",
   "execution_count": 2,
   "id": "8ce6a9a4",
   "metadata": {
    "execution": {
     "iopub.execute_input": "2022-09-13T04:38:10.987712Z",
     "iopub.status.busy": "2022-09-13T04:38:10.986345Z",
     "iopub.status.idle": "2022-09-13T04:38:19.394780Z",
     "shell.execute_reply": "2022-09-13T04:38:19.392434Z"
    },
    "papermill": {
     "duration": 8.419615,
     "end_time": "2022-09-13T04:38:19.398958",
     "exception": false,
     "start_time": "2022-09-13T04:38:10.979343",
     "status": "completed"
    },
    "tags": []
   },
   "outputs": [
    {
     "name": "stdout",
     "output_type": "stream",
     "text": [
      "Input shape: [18]\n"
     ]
    }
   ],
   "source": [
    "import pandas as pd\n",
    "from sklearn.preprocessing import StandardScaler, OneHotEncoder\n",
    "from sklearn.compose import make_column_transformer\n",
    "from sklearn.model_selection import GroupShuffleSplit\n",
    "\n",
    "from tensorflow import keras\n",
    "from tensorflow.keras import layers\n",
    "from tensorflow.keras import callbacks\n",
    "\n",
    "spotify = pd.read_csv('../input/dl-course-data/spotify.csv')\n",
    "\n",
    "X = spotify.copy().dropna()\n",
    "y = X.pop('track_popularity')\n",
    "artists = X['track_artist']\n",
    "\n",
    "features_num = ['danceability', 'energy', 'key', 'loudness', 'mode',\n",
    "                'speechiness', 'acousticness', 'instrumentalness',\n",
    "                'liveness', 'valence', 'tempo', 'duration_ms']\n",
    "features_cat = ['playlist_genre']\n",
    "\n",
    "preprocessor = make_column_transformer(\n",
    "    (StandardScaler(), features_num),\n",
    "    (OneHotEncoder(), features_cat),\n",
    ")\n",
    "\n",
    "def group_split(X, y, group, train_size=0.75):\n",
    "    splitter = GroupShuffleSplit(train_size=train_size)\n",
    "    train, test = next(splitter.split(X, y, groups=group))\n",
    "    return (X.iloc[train], X.iloc[test], y.iloc[train], y.iloc[test])\n",
    "\n",
    "X_train, X_valid, y_train, y_valid = group_split(X, y, artists)\n",
    "\n",
    "X_train = preprocessor.fit_transform(X_train)\n",
    "X_valid = preprocessor.transform(X_valid)\n",
    "y_train = y_train / 100\n",
    "y_valid = y_valid / 100\n",
    "\n",
    "input_shape = [X_train.shape[1]]\n",
    "print(\"Input shape: {}\".format(input_shape))"
   ]
  },
  {
   "cell_type": "markdown",
   "id": "449d03e5",
   "metadata": {
    "papermill": {
     "duration": 0.005935,
     "end_time": "2022-09-13T04:38:19.412456",
     "exception": false,
     "start_time": "2022-09-13T04:38:19.406521",
     "status": "completed"
    },
    "tags": []
   },
   "source": [
    "# 1) Add Dropout to Spotify Model\n",
    "\n",
    "Here is the last model from Exercise 4. Add two dropout layers, one after the `Dense` layer with 128 units, and one after the `Dense` layer with 64 units. Set the dropout rate on both to `0.3`."
   ]
  },
  {
   "cell_type": "code",
   "execution_count": 3,
   "id": "d4145281",
   "metadata": {
    "execution": {
     "iopub.execute_input": "2022-09-13T04:38:19.427427Z",
     "iopub.status.busy": "2022-09-13T04:38:19.426119Z",
     "iopub.status.idle": "2022-09-13T04:38:23.652878Z",
     "shell.execute_reply": "2022-09-13T04:38:23.651347Z"
    },
    "lines_to_next_cell": 2,
    "papermill": {
     "duration": 4.237093,
     "end_time": "2022-09-13T04:38:23.655631",
     "exception": false,
     "start_time": "2022-09-13T04:38:19.418538",
     "status": "completed"
    },
    "tags": []
   },
   "outputs": [
    {
     "name": "stderr",
     "output_type": "stream",
     "text": [
      "2022-09-13 04:38:19.567863: I tensorflow/stream_executor/cuda/cuda_gpu_executor.cc:937] successful NUMA node read from SysFS had negative value (-1), but there must be at least one NUMA node, so returning NUMA node zero\n",
      "2022-09-13 04:38:19.740086: I tensorflow/stream_executor/cuda/cuda_gpu_executor.cc:937] successful NUMA node read from SysFS had negative value (-1), but there must be at least one NUMA node, so returning NUMA node zero\n",
      "2022-09-13 04:38:19.744322: I tensorflow/stream_executor/cuda/cuda_gpu_executor.cc:937] successful NUMA node read from SysFS had negative value (-1), but there must be at least one NUMA node, so returning NUMA node zero\n",
      "2022-09-13 04:38:19.750216: I tensorflow/core/platform/cpu_feature_guard.cc:142] This TensorFlow binary is optimized with oneAPI Deep Neural Network Library (oneDNN) to use the following CPU instructions in performance-critical operations:  AVX2 FMA\n",
      "To enable them in other operations, rebuild TensorFlow with the appropriate compiler flags.\n",
      "2022-09-13 04:38:19.750722: I tensorflow/stream_executor/cuda/cuda_gpu_executor.cc:937] successful NUMA node read from SysFS had negative value (-1), but there must be at least one NUMA node, so returning NUMA node zero\n",
      "2022-09-13 04:38:19.755989: I tensorflow/stream_executor/cuda/cuda_gpu_executor.cc:937] successful NUMA node read from SysFS had negative value (-1), but there must be at least one NUMA node, so returning NUMA node zero\n",
      "2022-09-13 04:38:19.760438: I tensorflow/stream_executor/cuda/cuda_gpu_executor.cc:937] successful NUMA node read from SysFS had negative value (-1), but there must be at least one NUMA node, so returning NUMA node zero\n",
      "2022-09-13 04:38:23.012650: I tensorflow/stream_executor/cuda/cuda_gpu_executor.cc:937] successful NUMA node read from SysFS had negative value (-1), but there must be at least one NUMA node, so returning NUMA node zero\n",
      "2022-09-13 04:38:23.016954: I tensorflow/stream_executor/cuda/cuda_gpu_executor.cc:937] successful NUMA node read from SysFS had negative value (-1), but there must be at least one NUMA node, so returning NUMA node zero\n",
      "2022-09-13 04:38:23.021284: I tensorflow/stream_executor/cuda/cuda_gpu_executor.cc:937] successful NUMA node read from SysFS had negative value (-1), but there must be at least one NUMA node, so returning NUMA node zero\n",
      "2022-09-13 04:38:23.025237: I tensorflow/core/common_runtime/gpu/gpu_device.cc:1510] Created device /job:localhost/replica:0/task:0/device:GPU:0 with 15401 MB memory:  -> device: 0, name: Tesla P100-PCIE-16GB, pci bus id: 0000:00:04.0, compute capability: 6.0\n"
     ]
    },
    {
     "data": {
      "application/javascript": [
       "parent.postMessage({\"jupyterEvent\": \"custom.exercise_interaction\", \"data\": {\"outcomeType\": 1, \"valueTowardsCompletion\": 0.25, \"interactionType\": 1, \"questionType\": 2, \"questionId\": \"1_Q1\", \"learnToolsVersion\": \"0.3.4\", \"failureMessage\": \"\", \"exceptionClass\": \"\", \"trace\": \"\"}}, \"*\")"
      ],
      "text/plain": [
       "<IPython.core.display.Javascript object>"
      ]
     },
     "metadata": {},
     "output_type": "display_data"
    },
    {
     "data": {
      "text/markdown": [
       "<span style=\"color:#33cc33\">Correct</span>"
      ],
      "text/plain": [
       "Correct"
      ]
     },
     "metadata": {},
     "output_type": "display_data"
    }
   ],
   "source": [
    "# YOUR CODE HERE: Add two 30% dropout layers, one after 128 and one after 64\n",
    "model = keras.Sequential([\n",
    "    layers.Dense(128, activation='relu', input_shape=input_shape),\n",
    "    layers.Dropout(0.3),\n",
    "    layers.Dense(64, activation='relu'),\n",
    "    layers.Dropout(0.3),\n",
    "    layers.Dense(1)\n",
    "])\n",
    "\n",
    "# Check your answer\n",
    "q_1.check()"
   ]
  },
  {
   "cell_type": "code",
   "execution_count": 4,
   "id": "b2d130bb",
   "metadata": {
    "execution": {
     "iopub.execute_input": "2022-09-13T04:38:23.670007Z",
     "iopub.status.busy": "2022-09-13T04:38:23.669039Z",
     "iopub.status.idle": "2022-09-13T04:38:23.674991Z",
     "shell.execute_reply": "2022-09-13T04:38:23.673487Z"
    },
    "papermill": {
     "duration": 0.016261,
     "end_time": "2022-09-13T04:38:23.678196",
     "exception": false,
     "start_time": "2022-09-13T04:38:23.661935",
     "status": "completed"
    },
    "tags": []
   },
   "outputs": [],
   "source": [
    "# Lines below will give you a hint or solution code\n",
    "#q_1.hint()\n",
    "#q_1.solution()"
   ]
  },
  {
   "cell_type": "markdown",
   "id": "270396cb",
   "metadata": {
    "papermill": {
     "duration": 0.00568,
     "end_time": "2022-09-13T04:38:23.689895",
     "exception": false,
     "start_time": "2022-09-13T04:38:23.684215",
     "status": "completed"
    },
    "tags": []
   },
   "source": [
    "Now run this next cell to train the model see the effect of adding dropout."
   ]
  },
  {
   "cell_type": "code",
   "execution_count": 5,
   "id": "7ea448f6",
   "metadata": {
    "execution": {
     "iopub.execute_input": "2022-09-13T04:38:23.703896Z",
     "iopub.status.busy": "2022-09-13T04:38:23.703459Z",
     "iopub.status.idle": "2022-09-13T04:38:45.243149Z",
     "shell.execute_reply": "2022-09-13T04:38:45.241789Z"
    },
    "papermill": {
     "duration": 21.550215,
     "end_time": "2022-09-13T04:38:45.245944",
     "exception": false,
     "start_time": "2022-09-13T04:38:23.695729",
     "status": "completed"
    },
    "tags": []
   },
   "outputs": [
    {
     "name": "stderr",
     "output_type": "stream",
     "text": [
      "2022-09-13 04:38:23.808986: I tensorflow/compiler/mlir/mlir_graph_optimization_pass.cc:185] None of the MLIR Optimization Passes are enabled (registered 2)\n"
     ]
    },
    {
     "name": "stdout",
     "output_type": "stream",
     "text": [
      "Minimum Validation Loss: 0.1948\n"
     ]
    },
    {
     "data": {
      "image/png": "[encoded data removed]",
      "text/plain": [
       "<Figure size 432x288 with 1 Axes>"
      ]
     },
     "metadata": {},
     "output_type": "display_data"
    }
   ],
   "source": [
    "model.compile(\n",
    "    optimizer='adam',\n",
    "    loss='mae',\n",
    ")\n",
    "history = model.fit(\n",
    "    X_train, y_train,\n",
    "    validation_data=(X_valid, y_valid),\n",
    "    batch_size=512,\n",
    "    epochs=50,\n",
    "    verbose=0,\n",
    ")\n",
    "history_df = pd.DataFrame(history.history)\n",
    "history_df.loc[:, ['loss', 'val_loss']].plot()\n",
    "print(\"Minimum Validation Loss: {:0.4f}\".format(history_df['val_loss'].min()))"
   ]
  },
  {
   "cell_type": "markdown",
   "id": "5ccd6507",
   "metadata": {
    "papermill": {
     "duration": 0.007049,
     "end_time": "2022-09-13T04:38:45.259584",
     "exception": false,
     "start_time": "2022-09-13T04:38:45.252535",
     "status": "completed"
    },
    "tags": []
   },
   "source": [
    "# 2) Evaluate Dropout\n",
    "\n",
    "Recall from Exercise 4 that this model tended to overfit the data around epoch 5. Did adding dropout seem to help prevent overfitting this time?"
   ]
  },
  {
   "cell_type": "code",
   "execution_count": 6,
   "id": "c392fb3e",
   "metadata": {
    "execution": {
     "iopub.execute_input": "2022-09-13T04:38:45.273718Z",
     "iopub.status.busy": "2022-09-13T04:38:45.273306Z",
     "iopub.status.idle": "2022-09-13T04:38:45.285230Z",
     "shell.execute_reply": "2022-09-13T04:38:45.283783Z"
    },
    "papermill": {
     "duration": 0.022826,
     "end_time": "2022-09-13T04:38:45.288350",
     "exception": false,
     "start_time": "2022-09-13T04:38:45.265524",
     "status": "completed"
    },
    "tags": []
   },
   "outputs": [
    {
     "data": {
      "application/javascript": [
       "parent.postMessage({\"jupyterEvent\": \"custom.exercise_interaction\", \"data\": {\"outcomeType\": 1, \"valueTowardsCompletion\": 0.25, \"interactionType\": 1, \"questionType\": 4, \"questionId\": \"2_Q2\", \"learnToolsVersion\": \"0.3.4\", \"failureMessage\": \"\", \"exceptionClass\": \"\", \"trace\": \"\"}}, \"*\")"
      ],
      "text/plain": [
       "<IPython.core.display.Javascript object>"
      ]
     },
     "metadata": {},
     "output_type": "display_data"
    },
    {
     "data": {
      "text/markdown": [
       "<span style=\"color:#33cc33\">Correct:</span> \n",
       "\n",
       "\n",
       "From the learning curves, you can see that the validation loss remains near a constant minimum even though the training loss continues to decrease. So we can see that adding dropout did prevent overfitting this time. Moreover, by making it harder for the network to fit spurious patterns, dropout may have encouraged the network to seek out more of the true patterns, possibly improving the validation loss some as well).\n"
      ],
      "text/plain": [
       "Correct: \n",
       "\n",
       "\n",
       "From the learning curves, you can see that the validation loss remains near a constant minimum even though the training loss continues to decrease. So we can see that adding dropout did prevent overfitting this time. Moreover, by making it harder for the network to fit spurious patterns, dropout may have encouraged the network to seek out more of the true patterns, possibly improving the validation loss some as well)."
      ]
     },
     "metadata": {},
     "output_type": "display_data"
    }
   ],
   "source": [
    "# View the solution (Run this cell to receive credit!)\n",
    "q_2.check()"
   ]
  },
  {
   "cell_type": "markdown",
   "id": "16d44730",
   "metadata": {
    "papermill": {
     "duration": 0.006174,
     "end_time": "2022-09-13T04:38:45.301093",
     "exception": false,
     "start_time": "2022-09-13T04:38:45.294919",
     "status": "completed"
    },
    "tags": []
   },
   "source": [
    "Now, we'll switch topics to explore how batch normalization can fix problems in training.\n",
    "\n",
    "Load the *Concrete* dataset. We won't do any standardization this time. This will make the effect of batch normalization much more apparent."
   ]
  },
  {
   "cell_type": "code",
   "execution_count": 7,
   "id": "0ccb00ce",
   "metadata": {
    "execution": {
     "iopub.execute_input": "2022-09-13T04:38:45.315765Z",
     "iopub.status.busy": "2022-09-13T04:38:45.315399Z",
     "iopub.status.idle": "2022-09-13T04:38:45.339375Z",
     "shell.execute_reply": "2022-09-13T04:38:45.337944Z"
    },
    "papermill": {
     "duration": 0.034716,
     "end_time": "2022-09-13T04:38:45.342432",
     "exception": false,
     "start_time": "2022-09-13T04:38:45.307716",
     "status": "completed"
    },
    "tags": []
   },
   "outputs": [],
   "source": [
    "import pandas as pd\n",
    "\n",
    "concrete = pd.read_csv('../input/dl-course-data/concrete.csv')\n",
    "df = concrete.copy()\n",
    "\n",
    "df_train = df.sample(frac=0.7, random_state=0)\n",
    "df_valid = df.drop(df_train.index)\n",
    "\n",
    "X_train = df_train.drop('CompressiveStrength', axis=1)\n",
    "X_valid = df_valid.drop('CompressiveStrength', axis=1)\n",
    "y_train = df_train['CompressiveStrength']\n",
    "y_valid = df_valid['CompressiveStrength']\n",
    "\n",
    "input_shape = [X_train.shape[1]]"
   ]
  },
  {
   "cell_type": "markdown",
   "id": "1f2a7f79",
   "metadata": {
    "papermill": {
     "duration": 0.006987,
     "end_time": "2022-09-13T04:38:45.356052",
     "exception": false,
     "start_time": "2022-09-13T04:38:45.349065",
     "status": "completed"
    },
    "tags": []
   },
   "source": [
    "Run the following cell to train the network on the unstandardized *Concrete* data."
   ]
  },
  {
   "cell_type": "code",
   "execution_count": 8,
   "id": "0fa35971",
   "metadata": {
    "execution": {
     "iopub.execute_input": "2022-09-13T04:38:45.371091Z",
     "iopub.status.busy": "2022-09-13T04:38:45.370710Z",
     "iopub.status.idle": "2022-09-13T04:38:56.401328Z",
     "shell.execute_reply": "2022-09-13T04:38:56.399903Z"
    },
    "papermill": {
     "duration": 11.041459,
     "end_time": "2022-09-13T04:38:56.404427",
     "exception": false,
     "start_time": "2022-09-13T04:38:45.362968",
     "status": "completed"
    },
    "tags": []
   },
   "outputs": [
    {
     "name": "stdout",
     "output_type": "stream",
     "text": [
      "Minimum Validation Loss: nan\n"
     ]
    },
    {
     "data": {
      "image/png": "[encoded data removed]",
      "text/plain": [
       "<Figure size 432x288 with 1 Axes>"
      ]
     },
     "metadata": {},
     "output_type": "display_data"
    }
   ],
   "source": [
    "model = keras.Sequential([\n",
    "    layers.Dense(512, activation='relu', input_shape=input_shape),\n",
    "    layers.Dense(512, activation='relu'),    \n",
    "    layers.Dense(512, activation='relu'),\n",
    "    layers.Dense(1),\n",
    "])\n",
    "model.compile(\n",
    "    optimizer='sgd', # SGD is more sensitive to differences of scale\n",
    "    loss='mae',\n",
    "    metrics=['mae'],\n",
    ")\n",
    "history = model.fit(\n",
    "    X_train, y_train,\n",
    "    validation_data=(X_valid, y_valid),\n",
    "    batch_size=64,\n",
    "    epochs=100,\n",
    "    verbose=0,\n",
    ")\n",
    "\n",
    "history_df = pd.DataFrame(history.history)\n",
    "history_df.loc[0:, ['loss', 'val_loss']].plot()\n",
    "print((\"Minimum Validation Loss: {:0.4f}\").format(history_df['val_loss'].min()))"
   ]
  },
  {
   "cell_type": "markdown",
   "id": "535985ba",
   "metadata": {
    "papermill": {
     "duration": 0.006866,
     "end_time": "2022-09-13T04:38:56.418518",
     "exception": false,
     "start_time": "2022-09-13T04:38:56.411652",
     "status": "completed"
    },
    "tags": []
   },
   "source": [
    "Did you end up with a blank graph? Trying to train this network on this dataset will usually fail. Even when it does converge (due to a lucky weight initialization), it tends to converge to a very large number.\n",
    "\n",
    "# 3) Add Batch Normalization Layers\n",
    "\n",
    "Batch normalization can help correct problems like this.\n",
    "\n",
    "Add four `BatchNormalization` layers, one before each of the dense layers. (Remember to move the `input_shape` argument to the new first layer.)"
   ]
  },
  {
   "cell_type": "code",
   "execution_count": 9,
   "id": "3e6b3b4d",
   "metadata": {
    "execution": {
     "iopub.execute_input": "2022-09-13T04:38:56.434680Z",
     "iopub.status.busy": "2022-09-13T04:38:56.434262Z",
     "iopub.status.idle": "2022-09-13T04:38:56.461295Z",
     "shell.execute_reply": "2022-09-13T04:38:56.459732Z"
    },
    "lines_to_next_cell": 0,
    "papermill": {
     "duration": 0.038712,
     "end_time": "2022-09-13T04:38:56.464229",
     "exception": false,
     "start_time": "2022-09-13T04:38:56.425517",
     "status": "completed"
    },
    "tags": []
   },
   "outputs": [
    {
     "data": {
      "application/javascript": [
       "parent.postMessage({\"jupyterEvent\": \"custom.exercise_interaction\", \"data\": {\"outcomeType\": 1, \"valueTowardsCompletion\": 0.25, \"interactionType\": 1, \"questionType\": 2, \"questionId\": \"3_Q3\", \"learnToolsVersion\": \"0.3.4\", \"failureMessage\": \"\", \"exceptionClass\": \"\", \"trace\": \"\"}}, \"*\")"
      ],
      "text/plain": [
       "<IPython.core.display.Javascript object>"
      ]
     },
     "metadata": {},
     "output_type": "display_data"
    },
    {
     "data": {
      "text/markdown": [
       "<span style=\"color:#33cc33\">Correct</span>"
      ],
      "text/plain": [
       "Correct"
      ]
     },
     "metadata": {},
     "output_type": "display_data"
    }
   ],
   "source": [
    "# YOUR CODE HERE: Add a BatchNormalization layer before each Dense layer\n",
    "model = keras.Sequential([\n",
    "    layers.BatchNormalization(),\n",
    "    layers.Dense(512, activation='relu', input_shape=input_shape),\n",
    "    layers.BatchNormalization(),\n",
    "    layers.Dense(512, activation='relu'),\n",
    "    layers.BatchNormalization(),\n",
    "    layers.Dense(512, activation='relu'),\n",
    "    layers.BatchNormalization(),\n",
    "    layers.Dense(1),\n",
    "])\n",
    "\n",
    "# Check your answer\n",
    "q_3.check()"
   ]
  },
  {
   "cell_type": "code",
   "execution_count": 10,
   "id": "0628f103",
   "metadata": {
    "execution": {
     "iopub.execute_input": "2022-09-13T04:38:56.480281Z",
     "iopub.status.busy": "2022-09-13T04:38:56.479845Z",
     "iopub.status.idle": "2022-09-13T04:38:56.486398Z",
     "shell.execute_reply": "2022-09-13T04:38:56.485045Z"
    },
    "papermill": {
     "duration": 0.018,
     "end_time": "2022-09-13T04:38:56.489546",
     "exception": false,
     "start_time": "2022-09-13T04:38:56.471546",
     "status": "completed"
    },
    "tags": []
   },
   "outputs": [],
   "source": [
    "# Lines below will give you a hint or solution code\n",
    "#q_3.hint()\n",
    "#q_3.solution()"
   ]
  },
  {
   "cell_type": "markdown",
   "id": "18035452",
   "metadata": {
    "papermill": {
     "duration": 0.007074,
     "end_time": "2022-09-13T04:38:56.503546",
     "exception": false,
     "start_time": "2022-09-13T04:38:56.496472",
     "status": "completed"
    },
    "tags": []
   },
   "source": [
    "Run the next cell to see if batch normalization will let us train the model."
   ]
  },
  {
   "cell_type": "code",
   "execution_count": 11,
   "id": "b7d65f9c",
   "metadata": {
    "execution": {
     "iopub.execute_input": "2022-09-13T04:38:56.519700Z",
     "iopub.status.busy": "2022-09-13T04:38:56.518961Z",
     "iopub.status.idle": "2022-09-13T04:39:18.557192Z",
     "shell.execute_reply": "2022-09-13T04:39:18.555795Z"
    },
    "papermill": {
     "duration": 22.04921,
     "end_time": "2022-09-13T04:39:18.559977",
     "exception": false,
     "start_time": "2022-09-13T04:38:56.510767",
     "status": "completed"
    },
    "tags": []
   },
   "outputs": [
    {
     "name": "stdout",
     "output_type": "stream",
     "text": [
      "Minimum Validation Loss: 3.8581\n"
     ]
    },
    {
     "data": {
      "image/png": "[encoded data removed]",
      "text/plain": [
       "<Figure size 432x288 with 1 Axes>"
      ]
     },
     "metadata": {},
     "output_type": "display_data"
    }
   ],
   "source": [
    "model.compile(\n",
    "    optimizer='sgd',\n",
    "    loss='mae',\n",
    "    metrics=['mae'],\n",
    ")\n",
    "EPOCHS = 100\n",
    "history = model.fit(\n",
    "    X_train, y_train,\n",
    "    validation_data=(X_valid, y_valid),\n",
    "    batch_size=64,\n",
    "    epochs=EPOCHS,\n",
    "    verbose=0,\n",
    ")\n",
    "\n",
    "history_df = pd.DataFrame(history.history)\n",
    "history_df.loc[0:, ['loss', 'val_loss']].plot()\n",
    "print((\"Minimum Validation Loss: {:0.4f}\").format(history_df['val_loss'].min()))"
   ]
  },
  {
   "cell_type": "markdown",
   "id": "99c0a24a",
   "metadata": {
    "papermill": {
     "duration": 0.007291,
     "end_time": "2022-09-13T04:39:18.575684",
     "exception": false,
     "start_time": "2022-09-13T04:39:18.568393",
     "status": "completed"
    },
    "tags": []
   },
   "source": [
    "# 4) Evaluate Batch Normalization\n",
    "\n",
    "Did adding batch normalization help?"
   ]
  },
  {
   "cell_type": "code",
   "execution_count": 12,
   "id": "69fe0fe0",
   "metadata": {
    "execution": {
     "iopub.execute_input": "2022-09-13T04:39:18.592777Z",
     "iopub.status.busy": "2022-09-13T04:39:18.592393Z",
     "iopub.status.idle": "2022-09-13T04:39:18.603790Z",
     "shell.execute_reply": "2022-09-13T04:39:18.602375Z"
    },
    "lines_to_next_cell": 0,
    "papermill": {
     "duration": 0.023415,
     "end_time": "2022-09-13T04:39:18.606610",
     "exception": false,
     "start_time": "2022-09-13T04:39:18.583195",
     "status": "completed"
    },
    "tags": []
   },
   "outputs": [
    {
     "data": {
      "application/javascript": [
       "parent.postMessage({\"jupyterEvent\": \"custom.exercise_interaction\", \"data\": {\"outcomeType\": 1, \"valueTowardsCompletion\": 0.25, \"interactionType\": 1, \"questionType\": 4, \"questionId\": \"4_Q4\", \"learnToolsVersion\": \"0.3.4\", \"failureMessage\": \"\", \"exceptionClass\": \"\", \"trace\": \"\"}}, \"*\")"
      ],
      "text/plain": [
       "<IPython.core.display.Javascript object>"
      ]
     },
     "metadata": {},
     "output_type": "display_data"
    },
    {
     "data": {
      "text/markdown": [
       "<span style=\"color:#33cc33\">Correct:</span> \n",
       "\n",
       "\n",
       "You can see that adding batch normalization was a big improvement on the first attempt! By adaptively scaling the data as it passes through the network, batch normalization can let you train models on difficult datasets.\n"
      ],
      "text/plain": [
       "Correct: \n",
       "\n",
       "\n",
       "You can see that adding batch normalization was a big improvement on the first attempt! By adaptively scaling the data as it passes through the network, batch normalization can let you train models on difficult datasets."
      ]
     },
     "metadata": {},
     "output_type": "display_data"
    }
   ],
   "source": [
    "# View the solution (Run this cell to receive credit!)\n",
    "q_4.check()"
   ]
  },
  {
   "cell_type": "markdown",
   "id": "62e4300f",
   "metadata": {
    "papermill": {
     "duration": 0.007722,
     "end_time": "2022-09-13T04:39:18.622058",
     "exception": false,
     "start_time": "2022-09-13T04:39:18.614336",
     "status": "completed"
    },
    "tags": []
   },
   "source": [
    "# Keep Going #\n",
    "\n",
    "[**Create neural networks**](https://www.kaggle.com/ryanholbrook/binary-classification) for binary classification."
   ]
  },
  {
   "cell_type": "markdown",
   "id": "00dea378",
   "metadata": {
    "papermill": {
     "duration": 0.007613,
     "end_time": "2022-09-13T04:39:18.637467",
     "exception": false,
     "start_time": "2022-09-13T04:39:18.629854",
     "status": "completed"
    },
    "tags": []
   },
   "source": [
    "---\n",
    "\n",
    "\n",
    "\n",
    "\n",
    "*Have questions or comments? Visit the [course discussion forum](https://www.kaggle.com/learn/intro-to-deep-learning/discussion) to chat with other learners.*"
   ]
  }
 ],
 "metadata": {
  "kernelspec": {
   "display_name": "Python 3",
   "language": "python",
   "name": "python3"
  },
  "language_info": {
   "codemirror_mode": {
    "name": "ipython",
    "version": 3
   },
   "file_extension": ".py",
   "mimetype": "text/x-python",
   "name": "python",
   "nbconvert_exporter": "python",
   "pygments_lexer": "ipython3",
   "version": "3.7.12"
  },
  "papermill": {
   "default_parameters": {},
   "duration": 82.824576,
   "end_time": "2022-09-13T04:39:22.651214",
   "environment_variables": {},
   "exception": null,
   "input_path": "__notebook__.ipynb",
   "output_path": "__notebook__.ipynb",
   "parameters": {},
   "start_time": "2022-09-13T04:37:59.826638",
   "version": "2.3.4"
  }
 },
 "nbformat": 4,
 "nbformat_minor": 5
}
